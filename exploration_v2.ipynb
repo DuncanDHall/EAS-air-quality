{
 "cells": [
  {
   "cell_type": "code",
   "execution_count": 1,
   "metadata": {},
   "outputs": [],
   "source": [
    "%matplotlib inline\n",
    "\n",
    "import numpy as np\n",
    "import pandas as pd\n",
    "import os"
   ]
  },
  {
   "cell_type": "code",
   "execution_count": 2,
   "metadata": {},
   "outputs": [],
   "source": [
    "from ingest import load_split_file"
   ]
  },
  {
   "cell_type": "code",
   "execution_count": 3,
   "metadata": {},
   "outputs": [],
   "source": [
    "unitsTab=pd.read_csv('codes/units.csv')\n",
    "unitsTab.index = unitsTab['Unit Code']\n",
    "unitsDict=unitsTab.to_dict()[\"Units\"]"
   ]
  },
  {
   "cell_type": "code",
   "execution_count": 4,
   "metadata": {},
   "outputs": [],
   "source": [
    "paramsTab=pd.read_csv('codes/parameters.csv')\n",
    "paramsTab.index = paramsTab['Parameter Code']\n",
    "paramsDict = paramsTab.to_dict()['Parameter']"
   ]
  },
  {
   "cell_type": "code",
   "execution_count": 5,
   "metadata": {},
   "outputs": [
    {
     "ename": "IsADirectoryError",
     "evalue": "[Errno 21] Is a directory: 'raw_data/'",
     "output_type": "error",
     "traceback": [
      "\u001b[0;31m---------------------------------------------------------------------------\u001b[0m",
      "\u001b[0;31mIsADirectoryError\u001b[0m                         Traceback (most recent call last)",
      "\u001b[0;32m<ipython-input-5-53e1b9661231>\u001b[0m in \u001b[0;36m<module>\u001b[0;34m()\u001b[0m\n\u001b[0;32m----> 1\u001b[0;31m \u001b[0mload_split_file\u001b[0m\u001b[0;34m(\u001b[0m\u001b[0;34m'raw_data/'\u001b[0m\u001b[0;34m)\u001b[0m\u001b[0;34m\u001b[0m\u001b[0m\n\u001b[0m",
      "\u001b[0;32m~/Library/Mobile Documents/com~apple~CloudDocs/Documents/Classes/EAS/EAS-air-quality/ingest.py\u001b[0m in \u001b[0;36mload_split_file\u001b[0;34m(file)\u001b[0m\n\u001b[1;32m     14\u001b[0m \u001b[0;31m# Functionize everything!\u001b[0m\u001b[0;34m\u001b[0m\u001b[0;34m\u001b[0m\u001b[0m\n\u001b[1;32m     15\u001b[0m \u001b[0;32mdef\u001b[0m \u001b[0mload_split_file\u001b[0m\u001b[0;34m(\u001b[0m\u001b[0mfile\u001b[0m\u001b[0;34m)\u001b[0m\u001b[0;34m:\u001b[0m\u001b[0;34m\u001b[0m\u001b[0m\n\u001b[0;32m---> 16\u001b[0;31m     \u001b[0;32mwith\u001b[0m \u001b[0mopen\u001b[0m\u001b[0;34m(\u001b[0m\u001b[0mfile\u001b[0m\u001b[0;34m)\u001b[0m \u001b[0;32mas\u001b[0m \u001b[0mf\u001b[0m\u001b[0;34m:\u001b[0m\u001b[0;34m\u001b[0m\u001b[0m\n\u001b[0m\u001b[1;32m     17\u001b[0m         \u001b[0mlines1\u001b[0m \u001b[0;34m=\u001b[0m \u001b[0mpd\u001b[0m\u001b[0;34m.\u001b[0m\u001b[0mDataFrame\u001b[0m\u001b[0;34m(\u001b[0m\u001b[0mf\u001b[0m\u001b[0;34m.\u001b[0m\u001b[0mreadlines\u001b[0m\u001b[0;34m(\u001b[0m\u001b[0;34m)\u001b[0m\u001b[0;34m,\u001b[0m\u001b[0mcolumns\u001b[0m\u001b[0;34m=\u001b[0m\u001b[0;34m[\u001b[0m\u001b[0;34m'raw'\u001b[0m\u001b[0;34m]\u001b[0m\u001b[0;34m)\u001b[0m\u001b[0;34m\u001b[0m\u001b[0m\n\u001b[1;32m     18\u001b[0m \u001b[0;34m\u001b[0m\u001b[0m\n",
      "\u001b[0;31mIsADirectoryError\u001b[0m: [Errno 21] Is a directory: 'raw_data/'"
     ]
    }
   ],
   "source": [
    "load_split_file('raw_data/')"
   ]
  },
  {
   "cell_type": "code",
   "execution_count": 68,
   "metadata": {},
   "outputs": [],
   "source": [
    "def loadData(path):\n",
    "    df=pd.read_csv(load_split_file(path)['RD'], delimiter='|')\n",
    "\n",
    "    # drop all 'Qualifier' columns\n",
    "    bad_columns = [c for c in df.columns if c.startswith('Qualifier')]\n",
    "    bad_columns += ['Null Data Code', 'Sampling Frequency', 'Uncertainty', 'Monitor Protocol (MP) ID', 'Alternate Method Detectable Limit']\n",
    "    df.drop(bad_columns, axis=1, inplace=True)\n",
    "\n",
    "    # grab only rows which begin with 'RD'\n",
    "#     df = df[df['# RD'] == 'RD']\n",
    "#     df.dropna(subset=['Date'], inplace=True)\n",
    "\n",
    "    # calculate datetimes and sort based on them\n",
    "\n",
    "    df['datetime'] = pd.to_datetime(df['Date'].astype(str) + ' ' + df['Start Time'])\n",
    "    df.index = df.datetime\n",
    "    df.sort_index(inplace=True)\n",
    "    df.drop(['Date', 'Start Time'], axis=1, inplace=True)\n",
    "\n",
    "    # replace unit and parameter codes with readable data\n",
    "#     df.Unit = df.Unit.astype(int)\n",
    "#     df.Parameter = df.Parameter.astype(int)\n",
    "    df.replace({'Unit':unitsDict, 'Parameter':paramsDict}, inplace=True)\n",
    "\n",
    "    return df"
   ]
  },
  {
   "cell_type": "code",
   "execution_count": 69,
   "metadata": {},
   "outputs": [],
   "source": [
    "basePath='raw_data/'\n",
    "paths=[basePath + f for f in os.listdir(basePath) if f.endswith('.txt')]"
   ]
  },
  {
   "cell_type": "code",
   "execution_count": 70,
   "metadata": {},
   "outputs": [
    {
     "data": {
      "text/html": [
       "<div>\n",
       "<table border=\"1\" class=\"dataframe\">\n",
       "  <thead>\n",
       "    <tr style=\"text-align: right;\">\n",
       "      <th></th>\n",
       "      <th>RD</th>\n",
       "      <th>Action Code</th>\n",
       "      <th>State Code</th>\n",
       "      <th>County Code</th>\n",
       "      <th>Site ID</th>\n",
       "      <th>Parameter</th>\n",
       "      <th>POC</th>\n",
       "      <th>Sample Duration</th>\n",
       "      <th>Unit</th>\n",
       "      <th>Method</th>\n",
       "      <th>Sample Value</th>\n",
       "      <th>datetime</th>\n",
       "    </tr>\n",
       "    <tr>\n",
       "      <th>datetime</th>\n",
       "      <th></th>\n",
       "      <th></th>\n",
       "      <th></th>\n",
       "      <th></th>\n",
       "      <th></th>\n",
       "      <th></th>\n",
       "      <th></th>\n",
       "      <th></th>\n",
       "      <th></th>\n",
       "      <th></th>\n",
       "      <th></th>\n",
       "      <th></th>\n",
       "    </tr>\n",
       "  </thead>\n",
       "  <tbody>\n",
       "    <tr>\n",
       "      <th>2014-01-01 00:00:00</th>\n",
       "      <td>RD</td>\n",
       "      <td>I</td>\n",
       "      <td>42</td>\n",
       "      <td>133</td>\n",
       "      <td>8</td>\n",
       "      <td>Carbon monoxide</td>\n",
       "      <td>1</td>\n",
       "      <td>1</td>\n",
       "      <td>Parts per million</td>\n",
       "      <td>93</td>\n",
       "      <td>0.1</td>\n",
       "      <td>2014-01-01 00:00:00</td>\n",
       "    </tr>\n",
       "    <tr>\n",
       "      <th>2014-01-01 01:00:00</th>\n",
       "      <td>RD</td>\n",
       "      <td>I</td>\n",
       "      <td>42</td>\n",
       "      <td>133</td>\n",
       "      <td>8</td>\n",
       "      <td>Carbon monoxide</td>\n",
       "      <td>1</td>\n",
       "      <td>1</td>\n",
       "      <td>Parts per million</td>\n",
       "      <td>93</td>\n",
       "      <td>0.1</td>\n",
       "      <td>2014-01-01 01:00:00</td>\n",
       "    </tr>\n",
       "    <tr>\n",
       "      <th>2014-01-01 02:00:00</th>\n",
       "      <td>RD</td>\n",
       "      <td>I</td>\n",
       "      <td>42</td>\n",
       "      <td>133</td>\n",
       "      <td>8</td>\n",
       "      <td>Carbon monoxide</td>\n",
       "      <td>1</td>\n",
       "      <td>1</td>\n",
       "      <td>Parts per million</td>\n",
       "      <td>93</td>\n",
       "      <td>0.2</td>\n",
       "      <td>2014-01-01 02:00:00</td>\n",
       "    </tr>\n",
       "  </tbody>\n",
       "</table>\n",
       "</div>"
      ],
      "text/plain": [
       "                     RD Action Code  State Code  County Code  Site ID  \\\n",
       "datetime                                                                \n",
       "2014-01-01 00:00:00  RD           I          42          133        8   \n",
       "2014-01-01 01:00:00  RD           I          42          133        8   \n",
       "2014-01-01 02:00:00  RD           I          42          133        8   \n",
       "\n",
       "                           Parameter  POC  Sample Duration               Unit  \\\n",
       "datetime                                                                        \n",
       "2014-01-01 00:00:00  Carbon monoxide    1                1  Parts per million   \n",
       "2014-01-01 01:00:00  Carbon monoxide    1                1  Parts per million   \n",
       "2014-01-01 02:00:00  Carbon monoxide    1                1  Parts per million   \n",
       "\n",
       "                     Method  Sample Value            datetime  \n",
       "datetime                                                       \n",
       "2014-01-01 00:00:00      93           0.1 2014-01-01 00:00:00  \n",
       "2014-01-01 01:00:00      93           0.1 2014-01-01 01:00:00  \n",
       "2014-01-01 02:00:00      93           0.2 2014-01-01 02:00:00  "
      ]
     },
     "execution_count": 70,
     "metadata": {},
     "output_type": "execute_result"
    }
   ],
   "source": [
    "df1 = loadData(paths[0])\n",
    "df1.head(3)"
   ]
  },
  {
   "cell_type": "code",
   "execution_count": 64,
   "metadata": {},
   "outputs": [
    {
     "data": {
      "text/html": [
       "<div>\n",
       "<table border=\"1\" class=\"dataframe\">\n",
       "  <thead>\n",
       "    <tr style=\"text-align: right;\">\n",
       "      <th></th>\n",
       "      <th>State Code</th>\n",
       "      <th>County Code</th>\n",
       "      <th>Site ID</th>\n",
       "      <th>POC</th>\n",
       "      <th>Sample Duration</th>\n",
       "      <th>Method</th>\n",
       "      <th>Sample Value</th>\n",
       "    </tr>\n",
       "  </thead>\n",
       "  <tbody>\n",
       "    <tr>\n",
       "      <th>count</th>\n",
       "      <td>26304.0</td>\n",
       "      <td>26304.0</td>\n",
       "      <td>26304.0</td>\n",
       "      <td>26304.0</td>\n",
       "      <td>26304.0</td>\n",
       "      <td>26304.0</td>\n",
       "      <td>24727.000000</td>\n",
       "    </tr>\n",
       "    <tr>\n",
       "      <th>mean</th>\n",
       "      <td>42.0</td>\n",
       "      <td>133.0</td>\n",
       "      <td>8.0</td>\n",
       "      <td>1.0</td>\n",
       "      <td>1.0</td>\n",
       "      <td>93.0</td>\n",
       "      <td>0.112108</td>\n",
       "    </tr>\n",
       "    <tr>\n",
       "      <th>std</th>\n",
       "      <td>0.0</td>\n",
       "      <td>0.0</td>\n",
       "      <td>0.0</td>\n",
       "      <td>0.0</td>\n",
       "      <td>0.0</td>\n",
       "      <td>0.0</td>\n",
       "      <td>0.161054</td>\n",
       "    </tr>\n",
       "    <tr>\n",
       "      <th>min</th>\n",
       "      <td>42.0</td>\n",
       "      <td>133.0</td>\n",
       "      <td>8.0</td>\n",
       "      <td>1.0</td>\n",
       "      <td>1.0</td>\n",
       "      <td>93.0</td>\n",
       "      <td>0.000000</td>\n",
       "    </tr>\n",
       "    <tr>\n",
       "      <th>25%</th>\n",
       "      <td>42.0</td>\n",
       "      <td>133.0</td>\n",
       "      <td>8.0</td>\n",
       "      <td>1.0</td>\n",
       "      <td>1.0</td>\n",
       "      <td>93.0</td>\n",
       "      <td>0.000000</td>\n",
       "    </tr>\n",
       "    <tr>\n",
       "      <th>50%</th>\n",
       "      <td>42.0</td>\n",
       "      <td>133.0</td>\n",
       "      <td>8.0</td>\n",
       "      <td>1.0</td>\n",
       "      <td>1.0</td>\n",
       "      <td>93.0</td>\n",
       "      <td>0.000000</td>\n",
       "    </tr>\n",
       "    <tr>\n",
       "      <th>75%</th>\n",
       "      <td>42.0</td>\n",
       "      <td>133.0</td>\n",
       "      <td>8.0</td>\n",
       "      <td>1.0</td>\n",
       "      <td>1.0</td>\n",
       "      <td>93.0</td>\n",
       "      <td>0.200000</td>\n",
       "    </tr>\n",
       "    <tr>\n",
       "      <th>max</th>\n",
       "      <td>42.0</td>\n",
       "      <td>133.0</td>\n",
       "      <td>8.0</td>\n",
       "      <td>1.0</td>\n",
       "      <td>1.0</td>\n",
       "      <td>93.0</td>\n",
       "      <td>1.600000</td>\n",
       "    </tr>\n",
       "  </tbody>\n",
       "</table>\n",
       "</div>"
      ],
      "text/plain": [
       "       State Code  County Code  Site ID      POC  Sample Duration   Method  \\\n",
       "count     26304.0      26304.0  26304.0  26304.0          26304.0  26304.0   \n",
       "mean         42.0        133.0      8.0      1.0              1.0     93.0   \n",
       "std           0.0          0.0      0.0      0.0              0.0      0.0   \n",
       "min          42.0        133.0      8.0      1.0              1.0     93.0   \n",
       "25%          42.0        133.0      8.0      1.0              1.0     93.0   \n",
       "50%          42.0        133.0      8.0      1.0              1.0     93.0   \n",
       "75%          42.0        133.0      8.0      1.0              1.0     93.0   \n",
       "max          42.0        133.0      8.0      1.0              1.0     93.0   \n",
       "\n",
       "       Sample Value  \n",
       "count  24727.000000  \n",
       "mean       0.112108  \n",
       "std        0.161054  \n",
       "min        0.000000  \n",
       "25%        0.000000  \n",
       "50%        0.000000  \n",
       "75%        0.200000  \n",
       "max        1.600000  "
      ]
     },
     "execution_count": 64,
     "metadata": {},
     "output_type": "execute_result"
    }
   ],
   "source": [
    "df1.describe()"
   ]
  },
  {
   "cell_type": "code",
   "execution_count": 67,
   "metadata": {},
   "outputs": [
    {
     "name": "stdout",
     "output_type": "stream",
     "text": [
      "['Carbon monoxide']\n"
     ]
    }
   ],
   "source": [
    "print(df1.Parameter.unique())"
   ]
  },
  {
   "cell_type": "code",
   "execution_count": 73,
   "metadata": {},
   "outputs": [
    {
     "name": "stdout",
     "output_type": "stream",
     "text": [
      "raw_data/Harrisburg_Lancaster_York_MSA_CO_2014-2016.txt\n",
      "raw_data/Harrisburg_Lancaster_York_MSA_CO_2014-2016.txt \t 2014-01-01 00:00:00 2016-12-31 23:00:00 ['Carbon monoxide'] ['Parts per million']\n",
      "raw_data/Harrisburg_Lancaster_York_MSA_PM10_2014-2016.txt\n",
      "raw_data/Harrisburg_Lancaster_York_MSA_PM10_2014-2016.txt \t 2014-01-01 00:00:00 2016-12-31 23:00:00 ['PM10 Total 0-10um STP'] ['Micrograms/cubic meter (25 C)']\n",
      "raw_data/Harrisburg_Lancaster_York_MSA_PM25SiteLevel_2014-2016.txt\n"
     ]
    },
    {
     "ename": "KeyError",
     "evalue": "'RD'",
     "output_type": "error",
     "traceback": [
      "\u001b[0;31m---------------------------------------------------------------------------\u001b[0m",
      "\u001b[0;31mKeyError\u001b[0m                                  Traceback (most recent call last)",
      "\u001b[0;32m<ipython-input-73-9a3601312d7f>\u001b[0m in \u001b[0;36m<module>\u001b[0;34m()\u001b[0m\n\u001b[1;32m      1\u001b[0m \u001b[0;32mfor\u001b[0m \u001b[0mp\u001b[0m \u001b[0;32min\u001b[0m \u001b[0mpaths\u001b[0m\u001b[0;34m:\u001b[0m\u001b[0;34m\u001b[0m\u001b[0m\n\u001b[1;32m      2\u001b[0m     \u001b[0mprint\u001b[0m\u001b[0;34m(\u001b[0m\u001b[0mp\u001b[0m\u001b[0;34m)\u001b[0m\u001b[0;34m\u001b[0m\u001b[0m\n\u001b[0;32m----> 3\u001b[0;31m     \u001b[0mdf\u001b[0m \u001b[0;34m=\u001b[0m \u001b[0mloadData\u001b[0m\u001b[0;34m(\u001b[0m\u001b[0mp\u001b[0m\u001b[0;34m)\u001b[0m\u001b[0;34m\u001b[0m\u001b[0m\n\u001b[0m\u001b[1;32m      4\u001b[0m     \u001b[0mprint\u001b[0m\u001b[0;34m(\u001b[0m\u001b[0mp\u001b[0m\u001b[0;34m,\u001b[0m \u001b[0;34m'\\t'\u001b[0m\u001b[0;34m,\u001b[0m \u001b[0mdf\u001b[0m\u001b[0;34m.\u001b[0m\u001b[0mindex\u001b[0m\u001b[0;34m.\u001b[0m\u001b[0mmin\u001b[0m\u001b[0;34m(\u001b[0m\u001b[0;34m)\u001b[0m\u001b[0;34m,\u001b[0m \u001b[0mdf\u001b[0m\u001b[0;34m.\u001b[0m\u001b[0mindex\u001b[0m\u001b[0;34m.\u001b[0m\u001b[0mmax\u001b[0m\u001b[0;34m(\u001b[0m\u001b[0;34m)\u001b[0m\u001b[0;34m,\u001b[0m \u001b[0mdf\u001b[0m\u001b[0;34m.\u001b[0m\u001b[0mParameter\u001b[0m\u001b[0;34m.\u001b[0m\u001b[0munique\u001b[0m\u001b[0;34m(\u001b[0m\u001b[0;34m)\u001b[0m\u001b[0;34m,\u001b[0m \u001b[0mdf\u001b[0m\u001b[0;34m.\u001b[0m\u001b[0mUnit\u001b[0m\u001b[0;34m.\u001b[0m\u001b[0munique\u001b[0m\u001b[0;34m(\u001b[0m\u001b[0;34m)\u001b[0m\u001b[0;34m)\u001b[0m\u001b[0;34m\u001b[0m\u001b[0m\n",
      "\u001b[0;32m<ipython-input-68-ecac47018b50>\u001b[0m in \u001b[0;36mloadData\u001b[0;34m(path)\u001b[0m\n\u001b[1;32m      1\u001b[0m \u001b[0;32mdef\u001b[0m \u001b[0mloadData\u001b[0m\u001b[0;34m(\u001b[0m\u001b[0mpath\u001b[0m\u001b[0;34m)\u001b[0m\u001b[0;34m:\u001b[0m\u001b[0;34m\u001b[0m\u001b[0m\n\u001b[0;32m----> 2\u001b[0;31m     \u001b[0mdf\u001b[0m\u001b[0;34m=\u001b[0m\u001b[0mpd\u001b[0m\u001b[0;34m.\u001b[0m\u001b[0mread_csv\u001b[0m\u001b[0;34m(\u001b[0m\u001b[0mload_split_file\u001b[0m\u001b[0;34m(\u001b[0m\u001b[0mpath\u001b[0m\u001b[0;34m)\u001b[0m\u001b[0;34m[\u001b[0m\u001b[0;34m'RD'\u001b[0m\u001b[0;34m]\u001b[0m\u001b[0;34m,\u001b[0m \u001b[0mdelimiter\u001b[0m\u001b[0;34m=\u001b[0m\u001b[0;34m'|'\u001b[0m\u001b[0;34m)\u001b[0m\u001b[0;34m\u001b[0m\u001b[0m\n\u001b[0m\u001b[1;32m      3\u001b[0m \u001b[0;34m\u001b[0m\u001b[0m\n\u001b[1;32m      4\u001b[0m     \u001b[0;31m# drop all 'Qualifier' columns\u001b[0m\u001b[0;34m\u001b[0m\u001b[0;34m\u001b[0m\u001b[0m\n\u001b[1;32m      5\u001b[0m     \u001b[0mbad_columns\u001b[0m \u001b[0;34m=\u001b[0m \u001b[0;34m[\u001b[0m\u001b[0mc\u001b[0m \u001b[0;32mfor\u001b[0m \u001b[0mc\u001b[0m \u001b[0;32min\u001b[0m \u001b[0mdf\u001b[0m\u001b[0;34m.\u001b[0m\u001b[0mcolumns\u001b[0m \u001b[0;32mif\u001b[0m \u001b[0mc\u001b[0m\u001b[0;34m.\u001b[0m\u001b[0mstartswith\u001b[0m\u001b[0;34m(\u001b[0m\u001b[0;34m'Qualifier'\u001b[0m\u001b[0;34m)\u001b[0m\u001b[0;34m]\u001b[0m\u001b[0;34m\u001b[0m\u001b[0m\n",
      "\u001b[0;31mKeyError\u001b[0m: 'RD'"
     ]
    }
   ],
   "source": [
    "for p in paths:\n",
    "    print(p)\n",
    "    df = loadData(p)\n",
    "    print(p, '\\t', df.index.min(), df.index.max(), df.Parameter.unique(), df.Unit.unique())"
   ]
  },
  {
   "cell_type": "code",
   "execution_count": null,
   "metadata": {},
   "outputs": [],
   "source": [
    "filesFrame=pd.DataFrame(files, columns=['filename'])\n",
    "filesFrame"
   ]
  },
  {
   "cell_type": "code",
   "execution_count": null,
   "metadata": {},
   "outputs": [],
   "source": [
    "filesFrame['table'] = [loadData(basePath+f) for f in filesFrame.filename]"
   ]
  },
  {
   "cell_type": "code",
   "execution_count": null,
   "metadata": {},
   "outputs": [],
   "source": [
    "filesFrame"
   ]
  },
  {
   "cell_type": "code",
   "execution_count": null,
   "metadata": {},
   "outputs": [],
   "source": [
    "allData=pd.concat(list(filesFrame.table))\n",
    "allData.sort_index(inplace=True)\n",
    "allData.drop_duplicates(['datetime','value','parameter','unit'], inplace=True)\n",
    "allData.tail(10)"
   ]
  },
  {
   "cell_type": "code",
   "execution_count": null,
   "metadata": {},
   "outputs": [],
   "source": [
    "print(allData.parameter.unique())\n",
    "[CO, O3, PM2, WS, Temp]=allData.parameter.unique()"
   ]
  },
  {
   "cell_type": "code",
   "execution_count": null,
   "metadata": {},
   "outputs": [],
   "source": [
    "allData[allData.parameter==CO].value.plot()\n",
    "# allData[allData.parameter==O3].value.plot()"
   ]
  },
  {
   "cell_type": "code",
   "execution_count": null,
   "metadata": {},
   "outputs": [],
   "source": [
    "allData[allData.parameter==O3].value.plot()"
   ]
  },
  {
   "cell_type": "code",
   "execution_count": null,
   "metadata": {},
   "outputs": [],
   "source": [
    "allData[allData.parameter==PM2].value.plot()"
   ]
  },
  {
   "cell_type": "code",
   "execution_count": null,
   "metadata": {},
   "outputs": [],
   "source": [
    "allData[allData.parameter==WS].value.plot()"
   ]
  },
  {
   "cell_type": "code",
   "execution_count": null,
   "metadata": {},
   "outputs": [],
   "source": [
    "allData[allData.parameter==Temp].value.plot()"
   ]
  },
  {
   "cell_type": "code",
   "execution_count": null,
   "metadata": {},
   "outputs": [],
   "source": []
  }
 ],
 "metadata": {
  "kernelspec": {
   "display_name": "Python 3",
   "language": "python",
   "name": "python3"
  },
  "language_info": {
   "codemirror_mode": {
    "name": "ipython",
    "version": 3
   },
   "file_extension": ".py",
   "mimetype": "text/x-python",
   "name": "python",
   "nbconvert_exporter": "python",
   "pygments_lexer": "ipython3",
   "version": "3.6.0"
  }
 },
 "nbformat": 4,
 "nbformat_minor": 2
}
