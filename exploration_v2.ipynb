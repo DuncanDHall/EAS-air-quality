{
 "cells": [
  {
   "cell_type": "code",
   "execution_count": 1,
   "metadata": {},
   "outputs": [],
   "source": [
    "%matplotlib inline\n",
    "\n",
    "import numpy as np\n",
    "import pandas as pd\n",
    "import os"
   ]
  },
  {
   "cell_type": "code",
   "execution_count": 2,
   "metadata": {},
   "outputs": [],
   "source": [
    "from ingest import load_split_file"
   ]
  },
  {
   "cell_type": "code",
   "execution_count": 52,
   "metadata": {},
   "outputs": [],
   "source": [
    "unitsTab=pd.read_csv('codes/units.csv')\n",
    "unitsTab.index = unitsTab['Unit Code']\n",
    "unitsDict=unitsTab.to_dict()[\"Units\"]"
   ]
  },
  {
   "cell_type": "code",
   "execution_count": 53,
   "metadata": {},
   "outputs": [],
   "source": [
    "paramsTab=pd.read_csv('codes/parameters.csv')\n",
    "paramsTab.index = paramsTab['Parameter Code']\n",
    "paramsDict = paramsTab.to_dict()['Parameter']"
   ]
  },
  {
   "cell_type": "code",
   "execution_count": 120,
   "metadata": {},
   "outputs": [],
   "source": [
    "def loadData(paths, delimiter='|'):\n",
    "    dfs = []\n",
    "    for path in paths:\n",
    "        print('loading data from file: ', path)\n",
    "        file_IO = load_split_file(path)\n",
    "        \n",
    "        if 'RD' not in file_IO.keys():\n",
    "            print('skipping file with no RD data: ', path)\n",
    "            continue\n",
    "            \n",
    "        df=pd.read_csv(file_IO['RD'], delimiter=delimiter)\n",
    "        \n",
    "        \n",
    "        if 'Start Time' not in df.columns:\n",
    "            print('skipping file due to missing start time: ', path)\n",
    "            continue\n",
    "        df.dropna(subset=['Sample Value', 'Start Time'], inplace=True)\n",
    "\n",
    "        # drop all 'Qualifier' columns\n",
    "        bad_columns = [c for c in df.columns if c.startswith('Qualifier')]\n",
    "        bad_columns += ['Null Data Code', 'Sampling Frequency', 'Uncertainty', 'Monitor Protocol (MP) ID', 'Alternate Method Detectable Limit']\n",
    "        df.drop(bad_columns, axis=1, inplace=True)\n",
    "\n",
    "        # grab only rows which begin with 'RD'\n",
    "    #     df = df[df['# RD'] == 'RD']\n",
    "    #     df.dropna(subset=['Date'], inplace=True)\n",
    "\n",
    "        # calculate datetimes and sort based on them\n",
    "\n",
    "        try:\n",
    "            df['datetime'] = pd.to_datetime(df['Date'].astype(str) + ' ' + df['Start Time'])\n",
    "        except TypeError:\n",
    "            print('skipping file due to bad date/time types: ', path)\n",
    "            continue\n",
    "        df.index = df.datetime\n",
    "        df.sort_index(inplace=True)\n",
    "        df.drop(['Date', 'Start Time'], axis=1, inplace=True)\n",
    "\n",
    "        # replace unit and parameter codes with readable data\n",
    "        df.Unit = df.Unit.astype(int)\n",
    "        df.Parameter = df.Parameter.astype(int)\n",
    "        df.replace({'Unit':unitsDict, 'Parameter':paramsDict}, inplace=True)\n",
    "        \n",
    "        dfs.append(df)\n",
    "    \n",
    "    allData=pd.concat(dfs)\n",
    "    allData.sort_index(inplace=True)\n",
    "    allData.drop_duplicates(['datetime','Sample Value','Parameter','Unit'], inplace=True)\n",
    "\n",
    "    return allData"
   ]
  },
  {
   "cell_type": "code",
   "execution_count": 97,
   "metadata": {},
   "outputs": [],
   "source": [
    "basePath='raw_data/'\n",
    "paths=[basePath + f for f in os.listdir(basePath) if f.endswith('.txt')]"
   ]
  },
  {
   "cell_type": "code",
   "execution_count": null,
   "metadata": {},
   "outputs": [],
   "source": []
  },
  {
   "cell_type": "code",
   "execution_count": 116,
   "metadata": {},
   "outputs": [
    {
     "name": "stdout",
     "output_type": "stream",
     "text": [
      "loading data from file:  raw_data/Harrisburg_Lancaster_York_MSA_CO_2014-2016.txt\n",
      "loading data from file:  raw_data/Harrisburg_Lancaster_York_MSA_PM10_2014-2016.txt\n",
      "loading data from file:  raw_data/Harrisburg_Lancaster_York_MSA_PM25SiteLevel_2014-2016.txt\n",
      "skipping file with no RD data:  raw_data/Harrisburg_Lancaster_York_MSA_PM25SiteLevel_2014-2016.txt\n",
      "loading data from file:  raw_data/Harrisburg_Lancaster_York_MSA_SO2_2014-2016.txt\n"
     ]
    },
    {
     "name": "stderr",
     "output_type": "stream",
     "text": [
      "/usr/local/lib/python3.6/site-packages/IPython/core/interactiveshell.py:2850: DtypeWarning: Columns (13) have mixed types. Specify dtype option on import or set low_memory=False.\n",
      "  if self.run_code(code, result):\n"
     ]
    },
    {
     "name": "stdout",
     "output_type": "stream",
     "text": [
      "loading data from file:  raw_data/Harrisburg_Met_2014.txt\n",
      "loading data from file:  raw_data/Harrisburg_Met_2015.txt\n",
      "loading data from file:  raw_data/Harrisburg_Met_2016.txt\n",
      "loading data from file:  raw_data/Hershey_Met_2014.txt\n",
      "loading data from file:  raw_data/Hershey_Met_2015.txt\n",
      "loading data from file:  raw_data/Hershey_Met_2016.txt\n",
      "loading data from file:  raw_data/Lancaster_Met_2014.txt\n",
      "loading data from file:  raw_data/Lancaster_Met_2015.txt\n",
      "loading data from file:  raw_data/Lancaster_Met_2016.txt\n",
      "loading data from file:  raw_data/PerryCounty_Met_2014.txt\n",
      "loading data from file:  raw_data/York_Met_2014.txt\n",
      "loading data from file:  raw_data/York_Met_2015.txt\n",
      "loading data from file:  raw_data/York_Met_2016.txt\n"
     ]
    }
   ],
   "source": [
    "df1 = loadData(paths)"
   ]
  },
  {
   "cell_type": "code",
   "execution_count": 118,
   "metadata": {},
   "outputs": [
    {
     "data": {
      "text/html": [
       "<div>\n",
       "<table border=\"1\" class=\"dataframe\">\n",
       "  <thead>\n",
       "    <tr style=\"text-align: right;\">\n",
       "      <th></th>\n",
       "      <th>State Code</th>\n",
       "      <th>County Code</th>\n",
       "      <th>Site ID</th>\n",
       "      <th>POC</th>\n",
       "      <th>Sample Duration</th>\n",
       "      <th>Method</th>\n",
       "      <th>Sample Value</th>\n",
       "    </tr>\n",
       "  </thead>\n",
       "  <tbody>\n",
       "    <tr>\n",
       "      <th>count</th>\n",
       "      <td>116379.0</td>\n",
       "      <td>116379.000000</td>\n",
       "      <td>116379.000000</td>\n",
       "      <td>116379.000000</td>\n",
       "      <td>116379.000000</td>\n",
       "      <td>116379.000000</td>\n",
       "      <td>116379.000000</td>\n",
       "    </tr>\n",
       "    <tr>\n",
       "      <th>mean</th>\n",
       "      <td>42.0</td>\n",
       "      <td>100.516150</td>\n",
       "      <td>238.662714</td>\n",
       "      <td>3.138771</td>\n",
       "      <td>1.001186</td>\n",
       "      <td>87.276854</td>\n",
       "      <td>9.141332</td>\n",
       "    </tr>\n",
       "    <tr>\n",
       "      <th>std</th>\n",
       "      <td>0.0</td>\n",
       "      <td>37.520297</td>\n",
       "      <td>432.152797</td>\n",
       "      <td>1.995188</td>\n",
       "      <td>0.084341</td>\n",
       "      <td>9.198007</td>\n",
       "      <td>10.964168</td>\n",
       "    </tr>\n",
       "    <tr>\n",
       "      <th>min</th>\n",
       "      <td>42.0</td>\n",
       "      <td>43.000000</td>\n",
       "      <td>7.000000</td>\n",
       "      <td>1.000000</td>\n",
       "      <td>1.000000</td>\n",
       "      <td>63.000000</td>\n",
       "      <td>0.000000</td>\n",
       "    </tr>\n",
       "    <tr>\n",
       "      <th>25%</th>\n",
       "      <td>42.0</td>\n",
       "      <td>71.000000</td>\n",
       "      <td>8.000000</td>\n",
       "      <td>1.000000</td>\n",
       "      <td>1.000000</td>\n",
       "      <td>79.000000</td>\n",
       "      <td>0.100000</td>\n",
       "    </tr>\n",
       "    <tr>\n",
       "      <th>50%</th>\n",
       "      <td>42.0</td>\n",
       "      <td>133.000000</td>\n",
       "      <td>8.000000</td>\n",
       "      <td>5.000000</td>\n",
       "      <td>1.000000</td>\n",
       "      <td>79.000000</td>\n",
       "      <td>5.000000</td>\n",
       "    </tr>\n",
       "    <tr>\n",
       "      <th>75%</th>\n",
       "      <td>42.0</td>\n",
       "      <td>133.000000</td>\n",
       "      <td>8.000000</td>\n",
       "      <td>5.000000</td>\n",
       "      <td>1.000000</td>\n",
       "      <td>100.000000</td>\n",
       "      <td>15.000000</td>\n",
       "    </tr>\n",
       "    <tr>\n",
       "      <th>max</th>\n",
       "      <td>42.0</td>\n",
       "      <td>133.000000</td>\n",
       "      <td>1100.000000</td>\n",
       "      <td>5.000000</td>\n",
       "      <td>7.000000</td>\n",
       "      <td>100.000000</td>\n",
       "      <td>188.000000</td>\n",
       "    </tr>\n",
       "  </tbody>\n",
       "</table>\n",
       "</div>"
      ],
      "text/plain": [
       "       State Code    County Code        Site ID            POC  \\\n",
       "count    116379.0  116379.000000  116379.000000  116379.000000   \n",
       "mean         42.0     100.516150     238.662714       3.138771   \n",
       "std           0.0      37.520297     432.152797       1.995188   \n",
       "min          42.0      43.000000       7.000000       1.000000   \n",
       "25%          42.0      71.000000       8.000000       1.000000   \n",
       "50%          42.0     133.000000       8.000000       5.000000   \n",
       "75%          42.0     133.000000       8.000000       5.000000   \n",
       "max          42.0     133.000000    1100.000000       5.000000   \n",
       "\n",
       "       Sample Duration         Method   Sample Value  \n",
       "count    116379.000000  116379.000000  116379.000000  \n",
       "mean          1.001186      87.276854       9.141332  \n",
       "std           0.084341       9.198007      10.964168  \n",
       "min           1.000000      63.000000       0.000000  \n",
       "25%           1.000000      79.000000       0.100000  \n",
       "50%           1.000000      79.000000       5.000000  \n",
       "75%           1.000000     100.000000      15.000000  \n",
       "max           7.000000     100.000000     188.000000  "
      ]
     },
     "execution_count": 118,
     "metadata": {},
     "output_type": "execute_result"
    }
   ],
   "source": []
  },
  {
   "cell_type": "code",
   "execution_count": 119,
   "metadata": {},
   "outputs": [
    {
     "name": "stdout",
     "output_type": "stream",
     "text": [
      "['Carbon monoxide' 'Sulfur dioxide' 'PM10 Total 0-10um STP']\n"
     ]
    }
   ],
   "source": [
    "print(df1.Parameter.unique())"
   ]
  },
  {
   "cell_type": "code",
   "execution_count": 11,
   "metadata": {},
   "outputs": [],
   "source": [
    "# for p in paths:\n",
    "#     try:\n",
    "#         df = loadData(p)\n",
    "#         print(p, '\\t', df.index.min(), df.index.max(), df.Parameter.unique(), df.Unit.unique())"
   ]
  },
  {
   "cell_type": "code",
   "execution_count": 15,
   "metadata": {},
   "outputs": [],
   "source": [
    "filesFrame=pd.DataFrame(paths, columns=['path'])"
   ]
  },
  {
   "cell_type": "code",
   "execution_count": 47,
   "metadata": {},
   "outputs": [
    {
     "data": {
      "text/html": [
       "<div>\n",
       "<table border=\"1\" class=\"dataframe\">\n",
       "  <thead>\n",
       "    <tr style=\"text-align: right;\">\n",
       "      <th></th>\n",
       "      <th>State Code</th>\n",
       "      <th>County Code</th>\n",
       "      <th>Site ID</th>\n",
       "      <th>POC</th>\n",
       "      <th>Sample Duration</th>\n",
       "      <th>Method</th>\n",
       "      <th>Sample Value</th>\n",
       "    </tr>\n",
       "  </thead>\n",
       "  <tbody>\n",
       "    <tr>\n",
       "      <th>count</th>\n",
       "      <td>24727.0</td>\n",
       "      <td>24727.0</td>\n",
       "      <td>24727.0</td>\n",
       "      <td>24727.0</td>\n",
       "      <td>24727.0</td>\n",
       "      <td>24727.0</td>\n",
       "      <td>24727.000000</td>\n",
       "    </tr>\n",
       "    <tr>\n",
       "      <th>mean</th>\n",
       "      <td>42.0</td>\n",
       "      <td>133.0</td>\n",
       "      <td>8.0</td>\n",
       "      <td>1.0</td>\n",
       "      <td>1.0</td>\n",
       "      <td>93.0</td>\n",
       "      <td>0.112108</td>\n",
       "    </tr>\n",
       "    <tr>\n",
       "      <th>std</th>\n",
       "      <td>0.0</td>\n",
       "      <td>0.0</td>\n",
       "      <td>0.0</td>\n",
       "      <td>0.0</td>\n",
       "      <td>0.0</td>\n",
       "      <td>0.0</td>\n",
       "      <td>0.161054</td>\n",
       "    </tr>\n",
       "    <tr>\n",
       "      <th>min</th>\n",
       "      <td>42.0</td>\n",
       "      <td>133.0</td>\n",
       "      <td>8.0</td>\n",
       "      <td>1.0</td>\n",
       "      <td>1.0</td>\n",
       "      <td>93.0</td>\n",
       "      <td>0.000000</td>\n",
       "    </tr>\n",
       "    <tr>\n",
       "      <th>25%</th>\n",
       "      <td>42.0</td>\n",
       "      <td>133.0</td>\n",
       "      <td>8.0</td>\n",
       "      <td>1.0</td>\n",
       "      <td>1.0</td>\n",
       "      <td>93.0</td>\n",
       "      <td>0.000000</td>\n",
       "    </tr>\n",
       "    <tr>\n",
       "      <th>50%</th>\n",
       "      <td>42.0</td>\n",
       "      <td>133.0</td>\n",
       "      <td>8.0</td>\n",
       "      <td>1.0</td>\n",
       "      <td>1.0</td>\n",
       "      <td>93.0</td>\n",
       "      <td>0.000000</td>\n",
       "    </tr>\n",
       "    <tr>\n",
       "      <th>75%</th>\n",
       "      <td>42.0</td>\n",
       "      <td>133.0</td>\n",
       "      <td>8.0</td>\n",
       "      <td>1.0</td>\n",
       "      <td>1.0</td>\n",
       "      <td>93.0</td>\n",
       "      <td>0.200000</td>\n",
       "    </tr>\n",
       "    <tr>\n",
       "      <th>max</th>\n",
       "      <td>42.0</td>\n",
       "      <td>133.0</td>\n",
       "      <td>8.0</td>\n",
       "      <td>1.0</td>\n",
       "      <td>1.0</td>\n",
       "      <td>93.0</td>\n",
       "      <td>1.600000</td>\n",
       "    </tr>\n",
       "  </tbody>\n",
       "</table>\n",
       "</div>"
      ],
      "text/plain": [
       "       State Code  County Code  Site ID      POC  Sample Duration   Method  \\\n",
       "count     24727.0      24727.0  24727.0  24727.0          24727.0  24727.0   \n",
       "mean         42.0        133.0      8.0      1.0              1.0     93.0   \n",
       "std           0.0          0.0      0.0      0.0              0.0      0.0   \n",
       "min          42.0        133.0      8.0      1.0              1.0     93.0   \n",
       "25%          42.0        133.0      8.0      1.0              1.0     93.0   \n",
       "50%          42.0        133.0      8.0      1.0              1.0     93.0   \n",
       "75%          42.0        133.0      8.0      1.0              1.0     93.0   \n",
       "max          42.0        133.0      8.0      1.0              1.0     93.0   \n",
       "\n",
       "       Sample Value  \n",
       "count  24727.000000  \n",
       "mean       0.112108  \n",
       "std        0.161054  \n",
       "min        0.000000  \n",
       "25%        0.000000  \n",
       "50%        0.000000  \n",
       "75%        0.200000  \n",
       "max        1.600000  "
      ]
     },
     "execution_count": 47,
     "metadata": {},
     "output_type": "execute_result"
    }
   ],
   "source": [
    "df = loadData(paths[0])\n",
    "df.describe()"
   ]
  },
  {
   "cell_type": "code",
   "execution_count": 50,
   "metadata": {},
   "outputs": [
    {
     "ename": "KeyError",
     "evalue": "'RD'",
     "output_type": "error",
     "traceback": [
      "\u001b[0;31m-----------------------------------------------------------------------\u001b[0m",
      "\u001b[0;31mKeyError\u001b[0m                              Traceback (most recent call last)",
      "\u001b[0;32m<ipython-input-50-8f81a842e3fb>\u001b[0m in \u001b[0;36m<module>\u001b[0;34m()\u001b[0m\n\u001b[1;32m      1\u001b[0m \u001b[0mref\u001b[0m \u001b[0;34m=\u001b[0m \u001b[0mloadData\u001b[0m\u001b[0;34m(\u001b[0m\u001b[0mpaths\u001b[0m\u001b[0;34m[\u001b[0m\u001b[0;36m0\u001b[0m\u001b[0;34m]\u001b[0m\u001b[0;34m)\u001b[0m\u001b[0;34m.\u001b[0m\u001b[0mcolumns\u001b[0m\u001b[0;34m\u001b[0m\u001b[0m\n\u001b[1;32m      2\u001b[0m \u001b[0;32mfor\u001b[0m \u001b[0mpath\u001b[0m \u001b[0;32min\u001b[0m \u001b[0mfilesFrame\u001b[0m\u001b[0;34m.\u001b[0m\u001b[0mpath\u001b[0m\u001b[0;34m:\u001b[0m\u001b[0;34m\u001b[0m\u001b[0m\n\u001b[0;32m----> 3\u001b[0;31m     \u001b[0mdf\u001b[0m\u001b[0;34m=\u001b[0m\u001b[0mloadData\u001b[0m\u001b[0;34m(\u001b[0m\u001b[0mpath\u001b[0m\u001b[0;34m)\u001b[0m\u001b[0;34m\u001b[0m\u001b[0m\n\u001b[0m\u001b[1;32m      4\u001b[0m \u001b[0;31m#     try:\u001b[0m\u001b[0;34m\u001b[0m\u001b[0;34m\u001b[0m\u001b[0m\n\u001b[1;32m      5\u001b[0m \u001b[0;31m#         df=loadData(path)\u001b[0m\u001b[0;34m\u001b[0m\u001b[0;34m\u001b[0m\u001b[0m\n",
      "\u001b[0;32m<ipython-input-45-186c854089f2>\u001b[0m in \u001b[0;36mloadData\u001b[0;34m(path)\u001b[0m\n\u001b[1;32m      1\u001b[0m \u001b[0;32mdef\u001b[0m \u001b[0mloadData\u001b[0m\u001b[0;34m(\u001b[0m\u001b[0mpath\u001b[0m\u001b[0;34m)\u001b[0m\u001b[0;34m:\u001b[0m\u001b[0;34m\u001b[0m\u001b[0m\n\u001b[0;32m----> 2\u001b[0;31m     \u001b[0mdf\u001b[0m\u001b[0;34m=\u001b[0m\u001b[0mpd\u001b[0m\u001b[0;34m.\u001b[0m\u001b[0mread_csv\u001b[0m\u001b[0;34m(\u001b[0m\u001b[0mload_split_file\u001b[0m\u001b[0;34m(\u001b[0m\u001b[0mpath\u001b[0m\u001b[0;34m)\u001b[0m\u001b[0;34m[\u001b[0m\u001b[0;34m'RD'\u001b[0m\u001b[0;34m]\u001b[0m\u001b[0;34m,\u001b[0m \u001b[0mdelimiter\u001b[0m\u001b[0;34m=\u001b[0m\u001b[0;34m'|'\u001b[0m\u001b[0;34m)\u001b[0m\u001b[0;34m\u001b[0m\u001b[0m\n\u001b[0m\u001b[1;32m      3\u001b[0m \u001b[0;34m\u001b[0m\u001b[0m\n\u001b[1;32m      4\u001b[0m     \u001b[0;31m# drop all 'Qualifier' columns\u001b[0m\u001b[0;34m\u001b[0m\u001b[0;34m\u001b[0m\u001b[0m\n\u001b[1;32m      5\u001b[0m     \u001b[0mbad_columns\u001b[0m \u001b[0;34m=\u001b[0m \u001b[0;34m[\u001b[0m\u001b[0mc\u001b[0m \u001b[0;32mfor\u001b[0m \u001b[0mc\u001b[0m \u001b[0;32min\u001b[0m \u001b[0mdf\u001b[0m\u001b[0;34m.\u001b[0m\u001b[0mcolumns\u001b[0m \u001b[0;32mif\u001b[0m \u001b[0mc\u001b[0m\u001b[0;34m.\u001b[0m\u001b[0mstartswith\u001b[0m\u001b[0;34m(\u001b[0m\u001b[0;34m'Qualifier'\u001b[0m\u001b[0;34m)\u001b[0m\u001b[0;34m]\u001b[0m\u001b[0;34m\u001b[0m\u001b[0m\n",
      "\u001b[0;31mKeyError\u001b[0m: 'RD'"
     ]
    }
   ],
   "source": [
    "ref = loadData(paths[0]).columns\n",
    "for path in filesFrame.path:\n",
    "    df=loadData(path)\n",
    "#     try:\n",
    "#         df=loadData(path)\n",
    "#         print(df.columns == ref)\n",
    "#     except (KeyError):\n",
    "#         pass"
   ]
  },
  {
   "cell_type": "code",
   "execution_count": null,
   "metadata": {},
   "outputs": [],
   "source": [
    "dfs = []\n",
    "for p in filesFrame.path:\n",
    "#     print('loading: ', p)\n",
    "    try:\n",
    "        df = loadData(p)\n",
    "        dfs.append(df)\n",
    "    except (KeyError):\n",
    "#         print('skipped ', p)\n",
    "        pass\n",
    "\n",
    "filesFrame['table'] = dfs"
   ]
  },
  {
   "cell_type": "code",
   "execution_count": null,
   "metadata": {},
   "outputs": [],
   "source": [
    "filesFrame.head(3)"
   ]
  },
  {
   "cell_type": "code",
   "execution_count": null,
   "metadata": {},
   "outputs": [],
   "source": [
    "filesFrame['table'] = dfs\n",
    "allData=pd.concat(list(filesFrame.table))\n",
    "allData.sort_index(inplace=True)\n",
    "allData.drop_duplicates(['datetime','value','parameter','unit'], inplace=True)\n",
    "allData.tail(10)"
   ]
  },
  {
   "cell_type": "code",
   "execution_count": null,
   "metadata": {},
   "outputs": [],
   "source": [
    "print(allData.parameter.unique())\n",
    "[CO, O3, PM2, WS, Temp]=allData.parameter.unique()"
   ]
  },
  {
   "cell_type": "code",
   "execution_count": null,
   "metadata": {},
   "outputs": [],
   "source": [
    "allData[allData.parameter==CO].value.plot()\n",
    "# allData[allData.parameter==O3].value.plot()"
   ]
  },
  {
   "cell_type": "code",
   "execution_count": null,
   "metadata": {},
   "outputs": [],
   "source": [
    "allData[allData.parameter==O3].value.plot()"
   ]
  },
  {
   "cell_type": "code",
   "execution_count": null,
   "metadata": {},
   "outputs": [],
   "source": [
    "allData[allData.parameter==PM2].value.plot()"
   ]
  },
  {
   "cell_type": "code",
   "execution_count": null,
   "metadata": {},
   "outputs": [],
   "source": [
    "allData[allData.parameter==WS].value.plot()"
   ]
  },
  {
   "cell_type": "code",
   "execution_count": null,
   "metadata": {},
   "outputs": [],
   "source": [
    "allData[allData.parameter==Temp].value.plot()"
   ]
  },
  {
   "cell_type": "code",
   "execution_count": null,
   "metadata": {},
   "outputs": [],
   "source": []
  }
 ],
 "metadata": {
  "kernelspec": {
   "display_name": "Python 3",
   "language": "python",
   "name": "python3"
  },
  "language_info": {
   "codemirror_mode": {
    "name": "ipython",
    "version": 3
   },
   "file_extension": ".py",
   "mimetype": "text/x-python",
   "name": "python",
   "nbconvert_exporter": "python",
   "pygments_lexer": "ipython3",
   "version": "3.6.0"
  }
 },
 "nbformat": 4,
 "nbformat_minor": 2
}
