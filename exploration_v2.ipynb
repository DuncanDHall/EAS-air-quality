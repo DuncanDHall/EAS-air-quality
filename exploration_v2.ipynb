{
 "cells": [
  {
   "cell_type": "code",
   "execution_count": 1,
   "metadata": {},
   "outputs": [],
   "source": [
    "%matplotlib inline\n",
    "\n",
    "import numpy as np\n",
    "import pandas as pd\n",
    "import os"
   ]
  },
  {
   "cell_type": "code",
   "execution_count": 2,
   "metadata": {},
   "outputs": [],
   "source": [
    "unitsTab=pd.read_csv('codes/units.csv')\n",
    "unitsTab.index = unitsTab['Unit Code']\n",
    "unitsDict=unitsTab.to_dict()[\"Units\"]"
   ]
  },
  {
   "cell_type": "code",
   "execution_count": 3,
   "metadata": {},
   "outputs": [],
   "source": [
    "paramsTab=pd.read_csv('codes/parameters.csv')\n",
    "paramsTab.index = paramsTab['Parameter Code']\n",
    "paramsDict = paramsTab.to_dict()['Parameter']"
   ]
  },
  {
   "cell_type": "code",
   "execution_count": 4,
   "metadata": {},
   "outputs": [],
   "source": [
    "def loadData(path):\n",
    "    df=pd.read_csv(file, delimiter='|')\n",
    "\n",
    "    # drop all 'Qualifier' columns\n",
    "    bad_columns = [c for c in df.columns if c.startswith('Qualifier')]\n",
    "    bad_columns += ['Null Data Code', 'Sampling Frequency', 'Monitor Protocol (MP) ID', 'Alternate Method Detectable Limit']\n",
    "    df.drop(bad_columns, axis=1, inplace=True)\n",
    "\n",
    "    # grab only rows which begin with 'RD'\n",
    "    df = df[df['# RD'] == 'RD']\n",
    "    df.dropna(subset=['Date'], inplace=True)\n",
    "\n",
    "    # calculate datetimes and sort based on them\n",
    "    df['datetime'] = pd.to_datetime(df['Date'] + ' ' + df['Start Time'])\n",
    "    df.index = df.datetime\n",
    "    df.sort_index(inplace=True)\n",
    "\n",
    "    # replace unit and parameter codes with readable data\n",
    "    df.Unit = df.Unit.astype(int)\n",
    "    df.Parameter = df.Parameter.astype(int)\n",
    "    df.replace({'Unit':unitsDict, 'Parameter':paramsDict}, inplace=True)\n",
    "\n",
    "    return df"
   ]
  },
  {
   "cell_type": "code",
   "execution_count": 5,
   "metadata": {},
   "outputs": [
    {
     "name": "stdout",
     "output_type": "stream",
     "text": [
      "['Harrisburg_Lancaster_York_MSA_CO_2014-2016.txt', 'Harrisburg_Lancaster_York_MSA_PM10_2014-2016.txt', 'Harrisburg_Lancaster_York_MSA_PM25SiteLevel_2014-2016.txt', 'Harrisburg_Lancaster_York_MSA_SO2_2014-2016.txt', 'Harrisburg_Met_2014.txt', 'Harrisburg_Met_2015.txt', 'Harrisburg_Met_2016.txt', 'Hershey_Met_2014.txt', 'Hershey_Met_2015.txt', 'Hershey_Met_2016.txt', 'Lancaster_Met_2014.txt', 'Lancaster_Met_2015.txt', 'Lancaster_Met_2016.txt', 'PerryCounty_Met_2014.txt', 'York_Met_2014.txt', 'York_Met_2015.txt', 'York_Met_2016.txt']\n"
     ]
    }
   ],
   "source": [
    "basePath='raw_data/'\n",
    "files=[f for f in os.listdir(basePath) if f.endswith('.txt')]\n",
    "file=basePath+files[0]\n",
    "print(files)"
   ]
  },
  {
   "cell_type": "code",
   "execution_count": 16,
   "metadata": {},
   "outputs": [
    {
     "data": {
      "text/html": [
       "<div>\n",
       "<table border=\"1\" class=\"dataframe\">\n",
       "  <thead>\n",
       "    <tr style=\"text-align: right;\">\n",
       "      <th></th>\n",
       "      <th># RD</th>\n",
       "      <th>Action Code</th>\n",
       "      <th>State Code</th>\n",
       "      <th>County Code</th>\n",
       "      <th>Site ID</th>\n",
       "      <th>Parameter</th>\n",
       "      <th>POC</th>\n",
       "      <th>Sample Duration</th>\n",
       "      <th>Unit</th>\n",
       "      <th>Method</th>\n",
       "      <th>Date</th>\n",
       "      <th>Start Time</th>\n",
       "      <th>Sample Value</th>\n",
       "      <th>Uncertainty</th>\n",
       "      <th>datetime</th>\n",
       "    </tr>\n",
       "    <tr>\n",
       "      <th>datetime</th>\n",
       "      <th></th>\n",
       "      <th></th>\n",
       "      <th></th>\n",
       "      <th></th>\n",
       "      <th></th>\n",
       "      <th></th>\n",
       "      <th></th>\n",
       "      <th></th>\n",
       "      <th></th>\n",
       "      <th></th>\n",
       "      <th></th>\n",
       "      <th></th>\n",
       "      <th></th>\n",
       "      <th></th>\n",
       "      <th></th>\n",
       "    </tr>\n",
       "  </thead>\n",
       "  <tbody>\n",
       "    <tr>\n",
       "      <th>2014-01-01 00:00:00</th>\n",
       "      <td>RD</td>\n",
       "      <td>I</td>\n",
       "      <td>42</td>\n",
       "      <td>133</td>\n",
       "      <td>0008</td>\n",
       "      <td>Carbon monoxide</td>\n",
       "      <td>1</td>\n",
       "      <td>1</td>\n",
       "      <td>Parts per million</td>\n",
       "      <td>093</td>\n",
       "      <td>20140101</td>\n",
       "      <td>00:00</td>\n",
       "      <td>0.1</td>\n",
       "      <td>NaN</td>\n",
       "      <td>2014-01-01 00:00:00</td>\n",
       "    </tr>\n",
       "    <tr>\n",
       "      <th>2014-01-01 01:00:00</th>\n",
       "      <td>RD</td>\n",
       "      <td>I</td>\n",
       "      <td>42</td>\n",
       "      <td>133</td>\n",
       "      <td>0008</td>\n",
       "      <td>Carbon monoxide</td>\n",
       "      <td>1</td>\n",
       "      <td>1</td>\n",
       "      <td>Parts per million</td>\n",
       "      <td>093</td>\n",
       "      <td>20140101</td>\n",
       "      <td>01:00</td>\n",
       "      <td>0.1</td>\n",
       "      <td>NaN</td>\n",
       "      <td>2014-01-01 01:00:00</td>\n",
       "    </tr>\n",
       "  </tbody>\n",
       "</table>\n",
       "</div>"
      ],
      "text/plain": [
       "                    # RD Action Code State Code County Code Site ID  \\\n",
       "datetime                                                              \n",
       "2014-01-01 00:00:00   RD           I         42         133    0008   \n",
       "2014-01-01 01:00:00   RD           I         42         133    0008   \n",
       "\n",
       "                           Parameter POC Sample Duration               Unit  \\\n",
       "datetime                                                                      \n",
       "2014-01-01 00:00:00  Carbon monoxide   1               1  Parts per million   \n",
       "2014-01-01 01:00:00  Carbon monoxide   1               1  Parts per million   \n",
       "\n",
       "                    Method      Date Start Time Sample Value  Uncertainty  \\\n",
       "datetime                                                                    \n",
       "2014-01-01 00:00:00    093  20140101      00:00          0.1          NaN   \n",
       "2014-01-01 01:00:00    093  20140101      01:00          0.1          NaN   \n",
       "\n",
       "                               datetime  \n",
       "datetime                                 \n",
       "2014-01-01 00:00:00 2014-01-01 00:00:00  \n",
       "2014-01-01 01:00:00 2014-01-01 01:00:00  "
      ]
     },
     "execution_count": 16,
     "metadata": {},
     "output_type": "execute_result"
    }
   ],
   "source": [
    "df1=loadData(file)\n",
    "df1.head(2)"
   ]
  },
  {
   "cell_type": "code",
   "execution_count": null,
   "metadata": {},
   "outputs": [],
   "source": []
  },
  {
   "cell_type": "code",
   "execution_count": 20,
   "metadata": {},
   "outputs": [
    {
     "data": {
      "text/plain": [
       "count     26304\n",
       "unique        1\n",
       "top          RD\n",
       "freq      26304\n",
       "Name: # RD, dtype: object"
      ]
     },
     "execution_count": 20,
     "metadata": {},
     "output_type": "execute_result"
    }
   ],
   "source": [
    "df1[\"# RD\"].describe()"
   ]
  },
  {
   "cell_type": "code",
   "execution_count": 10,
   "metadata": {},
   "outputs": [
    {
     "ename": "AttributeError",
     "evalue": "'DataFrame' object has no attribute 'parameter'",
     "output_type": "error",
     "traceback": [
      "\u001b[0;31m---------------------------------------------------------------------------\u001b[0m",
      "\u001b[0;31mAttributeError\u001b[0m                            Traceback (most recent call last)",
      "\u001b[0;32m<ipython-input-10-f45c30a1223e>\u001b[0m in \u001b[0;36m<module>\u001b[0;34m()\u001b[0m\n\u001b[0;32m----> 1\u001b[0;31m \u001b[0mprint\u001b[0m\u001b[0;34m(\u001b[0m\u001b[0mdf\u001b[0m\u001b[0;34m.\u001b[0m\u001b[0mparameter\u001b[0m\u001b[0;34m.\u001b[0m\u001b[0munique\u001b[0m\u001b[0;34m(\u001b[0m\u001b[0;34m)\u001b[0m\u001b[0;34m)\u001b[0m\u001b[0;34m\u001b[0m\u001b[0m\n\u001b[0m",
      "\u001b[0;32m/usr/local/lib/python3.6/site-packages/pandas/core/generic.py\u001b[0m in \u001b[0;36m__getattr__\u001b[0;34m(self, name)\u001b[0m\n\u001b[1;32m   2742\u001b[0m             \u001b[0;32mif\u001b[0m \u001b[0mname\u001b[0m \u001b[0;32min\u001b[0m \u001b[0mself\u001b[0m\u001b[0;34m.\u001b[0m\u001b[0m_info_axis\u001b[0m\u001b[0;34m:\u001b[0m\u001b[0;34m\u001b[0m\u001b[0m\n\u001b[1;32m   2743\u001b[0m                 \u001b[0;32mreturn\u001b[0m \u001b[0mself\u001b[0m\u001b[0;34m[\u001b[0m\u001b[0mname\u001b[0m\u001b[0;34m]\u001b[0m\u001b[0;34m\u001b[0m\u001b[0m\n\u001b[0;32m-> 2744\u001b[0;31m             \u001b[0;32mreturn\u001b[0m \u001b[0mobject\u001b[0m\u001b[0;34m.\u001b[0m\u001b[0m__getattribute__\u001b[0m\u001b[0;34m(\u001b[0m\u001b[0mself\u001b[0m\u001b[0;34m,\u001b[0m \u001b[0mname\u001b[0m\u001b[0;34m)\u001b[0m\u001b[0;34m\u001b[0m\u001b[0m\n\u001b[0m\u001b[1;32m   2745\u001b[0m \u001b[0;34m\u001b[0m\u001b[0m\n\u001b[1;32m   2746\u001b[0m     \u001b[0;32mdef\u001b[0m \u001b[0m__setattr__\u001b[0m\u001b[0;34m(\u001b[0m\u001b[0mself\u001b[0m\u001b[0;34m,\u001b[0m \u001b[0mname\u001b[0m\u001b[0;34m,\u001b[0m \u001b[0mvalue\u001b[0m\u001b[0;34m)\u001b[0m\u001b[0;34m:\u001b[0m\u001b[0;34m\u001b[0m\u001b[0m\n",
      "\u001b[0;31mAttributeError\u001b[0m: 'DataFrame' object has no attribute 'parameter'"
     ]
    }
   ],
   "source": [
    "print(df.parameter.unique())"
   ]
  },
  {
   "cell_type": "code",
   "execution_count": 9,
   "metadata": {},
   "outputs": [],
   "source": [
    "# for f in files:\n",
    "#     df = loadData(basePath+f)\n",
    "#     print(f, '\\t', df.index.min(), df.index.max(), df.parameter.unique(), df.unit.unique())"
   ]
  },
  {
   "cell_type": "code",
   "execution_count": 10,
   "metadata": {},
   "outputs": [
    {
     "data": {
      "text/html": [
       "<div>\n",
       "<table border=\"1\" class=\"dataframe\">\n",
       "  <thead>\n",
       "    <tr style=\"text-align: right;\">\n",
       "      <th></th>\n",
       "      <th>filename</th>\n",
       "    </tr>\n",
       "  </thead>\n",
       "  <tbody>\n",
       "    <tr>\n",
       "      <th>0</th>\n",
       "      <td>AQDM_2141990090 (1).txt</td>\n",
       "    </tr>\n",
       "    <tr>\n",
       "      <th>1</th>\n",
       "      <td>AQDM_2141990090.txt</td>\n",
       "    </tr>\n",
       "    <tr>\n",
       "      <th>2</th>\n",
       "      <td>AQDM_2142091599.txt</td>\n",
       "    </tr>\n",
       "    <tr>\n",
       "      <th>3</th>\n",
       "      <td>AQDM_2142175470 (1).txt</td>\n",
       "    </tr>\n",
       "    <tr>\n",
       "      <th>4</th>\n",
       "      <td>AQDM_2142175470 (2).txt</td>\n",
       "    </tr>\n",
       "    <tr>\n",
       "      <th>5</th>\n",
       "      <td>AQDM_2142175470 (3).txt</td>\n",
       "    </tr>\n",
       "    <tr>\n",
       "      <th>6</th>\n",
       "      <td>AQDM_2142175470 (4).txt</td>\n",
       "    </tr>\n",
       "    <tr>\n",
       "      <th>7</th>\n",
       "      <td>AQDM_2142175470.txt</td>\n",
       "    </tr>\n",
       "    <tr>\n",
       "      <th>8</th>\n",
       "      <td>AQDM_2142402333 (1).txt</td>\n",
       "    </tr>\n",
       "    <tr>\n",
       "      <th>9</th>\n",
       "      <td>AQDM_2142402333.txt</td>\n",
       "    </tr>\n",
       "    <tr>\n",
       "      <th>10</th>\n",
       "      <td>AQDM_2142473032 (1).txt</td>\n",
       "    </tr>\n",
       "    <tr>\n",
       "      <th>11</th>\n",
       "      <td>AQDM_2142473032.txt</td>\n",
       "    </tr>\n",
       "    <tr>\n",
       "      <th>12</th>\n",
       "      <td>AQDM_2143508020.txt</td>\n",
       "    </tr>\n",
       "    <tr>\n",
       "      <th>13</th>\n",
       "      <td>AQDM_2143621601.txt</td>\n",
       "    </tr>\n",
       "    <tr>\n",
       "      <th>14</th>\n",
       "      <td>AQDM_2143639022.txt</td>\n",
       "    </tr>\n",
       "  </tbody>\n",
       "</table>\n",
       "</div>"
      ],
      "text/plain": [
       "                   filename\n",
       "0   AQDM_2141990090 (1).txt\n",
       "1       AQDM_2141990090.txt\n",
       "2       AQDM_2142091599.txt\n",
       "3   AQDM_2142175470 (1).txt\n",
       "4   AQDM_2142175470 (2).txt\n",
       "5   AQDM_2142175470 (3).txt\n",
       "6   AQDM_2142175470 (4).txt\n",
       "7       AQDM_2142175470.txt\n",
       "8   AQDM_2142402333 (1).txt\n",
       "9       AQDM_2142402333.txt\n",
       "10  AQDM_2142473032 (1).txt\n",
       "11      AQDM_2142473032.txt\n",
       "12      AQDM_2143508020.txt\n",
       "13      AQDM_2143621601.txt\n",
       "14      AQDM_2143639022.txt"
      ]
     },
     "execution_count": 10,
     "metadata": {},
     "output_type": "execute_result"
    }
   ],
   "source": [
    "filesFrame=pd.DataFrame(files, columns=['filename'])\n",
    "filesFrame"
   ]
  },
  {
   "cell_type": "code",
   "execution_count": 11,
   "metadata": {},
   "outputs": [
    {
     "name": "stderr",
     "output_type": "stream",
     "text": [
      "/usr/local/lib/python3.6/site-packages/IPython/core/interactiveshell.py:2910: DtypeWarning: Columns (0) have mixed types. Specify dtype option on import or set low_memory=False.\n",
      "  exec(code_obj, self.user_global_ns, self.user_ns)\n"
     ]
    }
   ],
   "source": [
    "filesFrame['table'] = [loadData(basePath+f) for f in filesFrame.filename]"
   ]
  },
  {
   "cell_type": "code",
   "execution_count": 12,
   "metadata": {},
   "outputs": [
    {
     "data": {
      "text/html": [
       "<div>\n",
       "<table border=\"1\" class=\"dataframe\">\n",
       "  <thead>\n",
       "    <tr style=\"text-align: right;\">\n",
       "      <th></th>\n",
       "      <th>filename</th>\n",
       "      <th>table</th>\n",
       "    </tr>\n",
       "  </thead>\n",
       "  <tbody>\n",
       "    <tr>\n",
       "      <th>0</th>\n",
       "      <td>AQDM_2141990090 (1).txt</td>\n",
       "      <td>site  data_status...</td>\n",
       "    </tr>\n",
       "    <tr>\n",
       "      <th>1</th>\n",
       "      <td>AQDM_2141990090.txt</td>\n",
       "      <td>site  data_status...</td>\n",
       "    </tr>\n",
       "    <tr>\n",
       "      <th>2</th>\n",
       "      <td>AQDM_2142091599.txt</td>\n",
       "      <td>site  data_status...</td>\n",
       "    </tr>\n",
       "    <tr>\n",
       "      <th>3</th>\n",
       "      <td>AQDM_2142175470 (1).txt</td>\n",
       "      <td>site  data_status...</td>\n",
       "    </tr>\n",
       "    <tr>\n",
       "      <th>4</th>\n",
       "      <td>AQDM_2142175470 (2).txt</td>\n",
       "      <td>site  data_status...</td>\n",
       "    </tr>\n",
       "    <tr>\n",
       "      <th>5</th>\n",
       "      <td>AQDM_2142175470 (3).txt</td>\n",
       "      <td>site  data_status...</td>\n",
       "    </tr>\n",
       "    <tr>\n",
       "      <th>6</th>\n",
       "      <td>AQDM_2142175470 (4).txt</td>\n",
       "      <td>site  data_status...</td>\n",
       "    </tr>\n",
       "    <tr>\n",
       "      <th>7</th>\n",
       "      <td>AQDM_2142175470.txt</td>\n",
       "      <td>site  data_status...</td>\n",
       "    </tr>\n",
       "    <tr>\n",
       "      <th>8</th>\n",
       "      <td>AQDM_2142402333 (1).txt</td>\n",
       "      <td>site  data_status...</td>\n",
       "    </tr>\n",
       "    <tr>\n",
       "      <th>9</th>\n",
       "      <td>AQDM_2142402333.txt</td>\n",
       "      <td>site  data_status...</td>\n",
       "    </tr>\n",
       "    <tr>\n",
       "      <th>10</th>\n",
       "      <td>AQDM_2142473032 (1).txt</td>\n",
       "      <td>site  data_status...</td>\n",
       "    </tr>\n",
       "    <tr>\n",
       "      <th>11</th>\n",
       "      <td>AQDM_2142473032.txt</td>\n",
       "      <td>site  data_status...</td>\n",
       "    </tr>\n",
       "    <tr>\n",
       "      <th>12</th>\n",
       "      <td>AQDM_2143508020.txt</td>\n",
       "      <td>site  data_status...</td>\n",
       "    </tr>\n",
       "    <tr>\n",
       "      <th>13</th>\n",
       "      <td>AQDM_2143621601.txt</td>\n",
       "      <td>Empty DataFrame\n",
       "Columns: [site, data_status, a...</td>\n",
       "    </tr>\n",
       "    <tr>\n",
       "      <th>14</th>\n",
       "      <td>AQDM_2143639022.txt</td>\n",
       "      <td>Empty DataFrame\n",
       "Columns: [site, data_status, a...</td>\n",
       "    </tr>\n",
       "  </tbody>\n",
       "</table>\n",
       "</div>"
      ],
      "text/plain": [
       "                   filename                                              table\n",
       "0   AQDM_2141990090 (1).txt                               site  data_status...\n",
       "1       AQDM_2141990090.txt                               site  data_status...\n",
       "2       AQDM_2142091599.txt                               site  data_status...\n",
       "3   AQDM_2142175470 (1).txt                               site  data_status...\n",
       "4   AQDM_2142175470 (2).txt                               site  data_status...\n",
       "5   AQDM_2142175470 (3).txt                               site  data_status...\n",
       "6   AQDM_2142175470 (4).txt                               site  data_status...\n",
       "7       AQDM_2142175470.txt                               site  data_status...\n",
       "8   AQDM_2142402333 (1).txt                               site  data_status...\n",
       "9       AQDM_2142402333.txt                               site  data_status...\n",
       "10  AQDM_2142473032 (1).txt                               site  data_status...\n",
       "11      AQDM_2142473032.txt                               site  data_status...\n",
       "12      AQDM_2143508020.txt                               site  data_status...\n",
       "13      AQDM_2143621601.txt  Empty DataFrame\n",
       "Columns: [site, data_status, a...\n",
       "14      AQDM_2143639022.txt  Empty DataFrame\n",
       "Columns: [site, data_status, a..."
      ]
     },
     "execution_count": 12,
     "metadata": {},
     "output_type": "execute_result"
    }
   ],
   "source": [
    "filesFrame"
   ]
  },
  {
   "cell_type": "code",
   "execution_count": 13,
   "metadata": {},
   "outputs": [
    {
     "data": {
      "text/html": [
       "<div>\n",
       "<table border=\"1\" class=\"dataframe\">\n",
       "  <thead>\n",
       "    <tr style=\"text-align: right;\">\n",
       "      <th></th>\n",
       "      <th>site</th>\n",
       "      <th>data_status</th>\n",
       "      <th>action_code</th>\n",
       "      <th>datetime</th>\n",
       "      <th>parameter</th>\n",
       "      <th>duration</th>\n",
       "      <th>frequency</th>\n",
       "      <th>value</th>\n",
       "      <th>unit</th>\n",
       "      <th>qc</th>\n",
       "      <th>...</th>\n",
       "      <th>lon</th>\n",
       "      <th>GISDatum</th>\n",
       "      <th>elev</th>\n",
       "      <th>method_code</th>\n",
       "      <th>mpc</th>\n",
       "      <th>mpc_value</th>\n",
       "      <th>uncertainty</th>\n",
       "      <th>qualifiers</th>\n",
       "      <th>unitCode</th>\n",
       "      <th>parameterCode</th>\n",
       "    </tr>\n",
       "    <tr>\n",
       "      <th>datetime</th>\n",
       "      <th></th>\n",
       "      <th></th>\n",
       "      <th></th>\n",
       "      <th></th>\n",
       "      <th></th>\n",
       "      <th></th>\n",
       "      <th></th>\n",
       "      <th></th>\n",
       "      <th></th>\n",
       "      <th></th>\n",
       "      <th></th>\n",
       "      <th></th>\n",
       "      <th></th>\n",
       "      <th></th>\n",
       "      <th></th>\n",
       "      <th></th>\n",
       "      <th></th>\n",
       "      <th></th>\n",
       "      <th></th>\n",
       "      <th></th>\n",
       "      <th></th>\n",
       "    </tr>\n",
       "  </thead>\n",
       "  <tbody>\n",
       "    <tr>\n",
       "      <th>2017-01-01 04:00:00</th>\n",
       "      <td>840481410044</td>\n",
       "      <td>0.0</td>\n",
       "      <td>10.0</td>\n",
       "      <td>2017-01-01 04:00:00</td>\n",
       "      <td>Wind Speed - Scalar</td>\n",
       "      <td>60.0</td>\n",
       "      <td>0.0</td>\n",
       "      <td>5.500</td>\n",
       "      <td>Knots</td>\n",
       "      <td>0.0</td>\n",
       "      <td>...</td>\n",
       "      <td>-106.455227</td>\n",
       "      <td>WGS84</td>\n",
       "      <td>1122.0</td>\n",
       "      <td>50.0</td>\n",
       "      <td>1.0</td>\n",
       "      <td>0.600</td>\n",
       "      <td>NaN</td>\n",
       "      <td>NaN</td>\n",
       "      <td>13.0</td>\n",
       "      <td>61101.0</td>\n",
       "    </tr>\n",
       "    <tr>\n",
       "      <th>2017-01-01 04:00:00</th>\n",
       "      <td>840481410044</td>\n",
       "      <td>0.0</td>\n",
       "      <td>10.0</td>\n",
       "      <td>2017-01-01 04:00:00</td>\n",
       "      <td>PM2.5 - Local Conditions</td>\n",
       "      <td>60.0</td>\n",
       "      <td>0.0</td>\n",
       "      <td>3.900</td>\n",
       "      <td>Micrograms/cubic meter (LC)</td>\n",
       "      <td>0.0</td>\n",
       "      <td>...</td>\n",
       "      <td>-106.455227</td>\n",
       "      <td>WGS84</td>\n",
       "      <td>1122.0</td>\n",
       "      <td>170.0</td>\n",
       "      <td>1.0</td>\n",
       "      <td>5.000</td>\n",
       "      <td>NaN</td>\n",
       "      <td>NaN</td>\n",
       "      <td>105.0</td>\n",
       "      <td>88101.0</td>\n",
       "    </tr>\n",
       "    <tr>\n",
       "      <th>2017-01-01 04:00:00</th>\n",
       "      <td>840482010416</td>\n",
       "      <td>0.0</td>\n",
       "      <td>10.0</td>\n",
       "      <td>2017-01-01 04:00:00</td>\n",
       "      <td>Outdoor Temperature</td>\n",
       "      <td>60.0</td>\n",
       "      <td>0.0</td>\n",
       "      <td>66.000</td>\n",
       "      <td>Degrees Fahrenheit</td>\n",
       "      <td>0.0</td>\n",
       "      <td>...</td>\n",
       "      <td>-95.294722</td>\n",
       "      <td>WGS84</td>\n",
       "      <td>10.0</td>\n",
       "      <td>40.0</td>\n",
       "      <td>1.0</td>\n",
       "      <td>-60.000</td>\n",
       "      <td>NaN</td>\n",
       "      <td>NaN</td>\n",
       "      <td>15.0</td>\n",
       "      <td>62101.0</td>\n",
       "    </tr>\n",
       "    <tr>\n",
       "      <th>2017-01-01 05:00:00</th>\n",
       "      <td>840481130069</td>\n",
       "      <td>0.0</td>\n",
       "      <td>10.0</td>\n",
       "      <td>2017-01-01 05:00:00</td>\n",
       "      <td>Carbon monoxide</td>\n",
       "      <td>60.0</td>\n",
       "      <td>0.0</td>\n",
       "      <td>0.229</td>\n",
       "      <td>Parts per million</td>\n",
       "      <td>0.0</td>\n",
       "      <td>...</td>\n",
       "      <td>-96.860117</td>\n",
       "      <td>WGS84</td>\n",
       "      <td>127.0</td>\n",
       "      <td>593.0</td>\n",
       "      <td>1.0</td>\n",
       "      <td>0.020</td>\n",
       "      <td>NaN</td>\n",
       "      <td>NaN</td>\n",
       "      <td>7.0</td>\n",
       "      <td>42101.0</td>\n",
       "    </tr>\n",
       "    <tr>\n",
       "      <th>2017-01-01 05:00:00</th>\n",
       "      <td>840482010416</td>\n",
       "      <td>0.0</td>\n",
       "      <td>10.0</td>\n",
       "      <td>2017-01-01 05:00:00</td>\n",
       "      <td>Outdoor Temperature</td>\n",
       "      <td>60.0</td>\n",
       "      <td>0.0</td>\n",
       "      <td>66.000</td>\n",
       "      <td>Degrees Fahrenheit</td>\n",
       "      <td>0.0</td>\n",
       "      <td>...</td>\n",
       "      <td>-95.294722</td>\n",
       "      <td>WGS84</td>\n",
       "      <td>10.0</td>\n",
       "      <td>40.0</td>\n",
       "      <td>1.0</td>\n",
       "      <td>-60.000</td>\n",
       "      <td>NaN</td>\n",
       "      <td>NaN</td>\n",
       "      <td>15.0</td>\n",
       "      <td>62101.0</td>\n",
       "    </tr>\n",
       "    <tr>\n",
       "      <th>2017-01-01 05:00:00</th>\n",
       "      <td>840481410044</td>\n",
       "      <td>0.0</td>\n",
       "      <td>10.0</td>\n",
       "      <td>2017-01-01 05:00:00</td>\n",
       "      <td>Wind Speed - Scalar</td>\n",
       "      <td>60.0</td>\n",
       "      <td>0.0</td>\n",
       "      <td>6.400</td>\n",
       "      <td>Knots</td>\n",
       "      <td>0.0</td>\n",
       "      <td>...</td>\n",
       "      <td>-106.455227</td>\n",
       "      <td>WGS84</td>\n",
       "      <td>1122.0</td>\n",
       "      <td>50.0</td>\n",
       "      <td>1.0</td>\n",
       "      <td>0.600</td>\n",
       "      <td>NaN</td>\n",
       "      <td>NaN</td>\n",
       "      <td>13.0</td>\n",
       "      <td>61101.0</td>\n",
       "    </tr>\n",
       "    <tr>\n",
       "      <th>2017-01-01 05:00:00</th>\n",
       "      <td>840482010416</td>\n",
       "      <td>0.0</td>\n",
       "      <td>10.0</td>\n",
       "      <td>2017-01-01 05:00:00</td>\n",
       "      <td>Ozone</td>\n",
       "      <td>60.0</td>\n",
       "      <td>0.0</td>\n",
       "      <td>0.014</td>\n",
       "      <td>Parts per million</td>\n",
       "      <td>0.0</td>\n",
       "      <td>...</td>\n",
       "      <td>-95.294722</td>\n",
       "      <td>WGS84</td>\n",
       "      <td>10.0</td>\n",
       "      <td>47.0</td>\n",
       "      <td>1.0</td>\n",
       "      <td>0.005</td>\n",
       "      <td>NaN</td>\n",
       "      <td>NaN</td>\n",
       "      <td>7.0</td>\n",
       "      <td>44201.0</td>\n",
       "    </tr>\n",
       "    <tr>\n",
       "      <th>2017-01-01 05:00:00</th>\n",
       "      <td>840481410044</td>\n",
       "      <td>0.0</td>\n",
       "      <td>10.0</td>\n",
       "      <td>2017-01-01 05:00:00</td>\n",
       "      <td>PM2.5 - Local Conditions</td>\n",
       "      <td>60.0</td>\n",
       "      <td>0.0</td>\n",
       "      <td>18.900</td>\n",
       "      <td>Micrograms/cubic meter (LC)</td>\n",
       "      <td>0.0</td>\n",
       "      <td>...</td>\n",
       "      <td>-106.455227</td>\n",
       "      <td>WGS84</td>\n",
       "      <td>1122.0</td>\n",
       "      <td>170.0</td>\n",
       "      <td>1.0</td>\n",
       "      <td>5.000</td>\n",
       "      <td>NaN</td>\n",
       "      <td>NaN</td>\n",
       "      <td>105.0</td>\n",
       "      <td>88101.0</td>\n",
       "    </tr>\n",
       "    <tr>\n",
       "      <th>2017-01-01 06:00:00</th>\n",
       "      <td>840481410044</td>\n",
       "      <td>0.0</td>\n",
       "      <td>10.0</td>\n",
       "      <td>2017-01-01 06:00:00</td>\n",
       "      <td>Wind Speed - Scalar</td>\n",
       "      <td>60.0</td>\n",
       "      <td>0.0</td>\n",
       "      <td>7.000</td>\n",
       "      <td>Knots</td>\n",
       "      <td>0.0</td>\n",
       "      <td>...</td>\n",
       "      <td>-106.455227</td>\n",
       "      <td>WGS84</td>\n",
       "      <td>1122.0</td>\n",
       "      <td>50.0</td>\n",
       "      <td>1.0</td>\n",
       "      <td>0.600</td>\n",
       "      <td>NaN</td>\n",
       "      <td>NaN</td>\n",
       "      <td>13.0</td>\n",
       "      <td>61101.0</td>\n",
       "    </tr>\n",
       "    <tr>\n",
       "      <th>2017-01-01 06:00:00</th>\n",
       "      <td>840481410044</td>\n",
       "      <td>0.0</td>\n",
       "      <td>10.0</td>\n",
       "      <td>2017-01-01 06:00:00</td>\n",
       "      <td>PM2.5 - Local Conditions</td>\n",
       "      <td>60.0</td>\n",
       "      <td>0.0</td>\n",
       "      <td>4.900</td>\n",
       "      <td>Micrograms/cubic meter (LC)</td>\n",
       "      <td>0.0</td>\n",
       "      <td>...</td>\n",
       "      <td>-106.455227</td>\n",
       "      <td>WGS84</td>\n",
       "      <td>1122.0</td>\n",
       "      <td>170.0</td>\n",
       "      <td>1.0</td>\n",
       "      <td>5.000</td>\n",
       "      <td>NaN</td>\n",
       "      <td>NaN</td>\n",
       "      <td>105.0</td>\n",
       "      <td>88101.0</td>\n",
       "    </tr>\n",
       "  </tbody>\n",
       "</table>\n",
       "<p>10 rows × 22 columns</p>\n",
       "</div>"
      ],
      "text/plain": [
       "                             site  data_status  action_code  \\\n",
       "datetime                                                      \n",
       "2017-01-01 04:00:00  840481410044          0.0         10.0   \n",
       "2017-01-01 04:00:00  840481410044          0.0         10.0   \n",
       "2017-01-01 04:00:00  840482010416          0.0         10.0   \n",
       "2017-01-01 05:00:00  840481130069          0.0         10.0   \n",
       "2017-01-01 05:00:00  840482010416          0.0         10.0   \n",
       "2017-01-01 05:00:00  840481410044          0.0         10.0   \n",
       "2017-01-01 05:00:00  840482010416          0.0         10.0   \n",
       "2017-01-01 05:00:00  840481410044          0.0         10.0   \n",
       "2017-01-01 06:00:00  840481410044          0.0         10.0   \n",
       "2017-01-01 06:00:00  840481410044          0.0         10.0   \n",
       "\n",
       "                               datetime                 parameter  duration  \\\n",
       "datetime                                                                      \n",
       "2017-01-01 04:00:00 2017-01-01 04:00:00       Wind Speed - Scalar      60.0   \n",
       "2017-01-01 04:00:00 2017-01-01 04:00:00  PM2.5 - Local Conditions      60.0   \n",
       "2017-01-01 04:00:00 2017-01-01 04:00:00       Outdoor Temperature      60.0   \n",
       "2017-01-01 05:00:00 2017-01-01 05:00:00           Carbon monoxide      60.0   \n",
       "2017-01-01 05:00:00 2017-01-01 05:00:00       Outdoor Temperature      60.0   \n",
       "2017-01-01 05:00:00 2017-01-01 05:00:00       Wind Speed - Scalar      60.0   \n",
       "2017-01-01 05:00:00 2017-01-01 05:00:00                     Ozone      60.0   \n",
       "2017-01-01 05:00:00 2017-01-01 05:00:00  PM2.5 - Local Conditions      60.0   \n",
       "2017-01-01 06:00:00 2017-01-01 06:00:00       Wind Speed - Scalar      60.0   \n",
       "2017-01-01 06:00:00 2017-01-01 06:00:00  PM2.5 - Local Conditions      60.0   \n",
       "\n",
       "                     frequency   value                         unit   qc  \\\n",
       "datetime                                                                   \n",
       "2017-01-01 04:00:00        0.0   5.500                        Knots  0.0   \n",
       "2017-01-01 04:00:00        0.0   3.900  Micrograms/cubic meter (LC)  0.0   \n",
       "2017-01-01 04:00:00        0.0  66.000           Degrees Fahrenheit  0.0   \n",
       "2017-01-01 05:00:00        0.0   0.229            Parts per million  0.0   \n",
       "2017-01-01 05:00:00        0.0  66.000           Degrees Fahrenheit  0.0   \n",
       "2017-01-01 05:00:00        0.0   6.400                        Knots  0.0   \n",
       "2017-01-01 05:00:00        0.0   0.014            Parts per million  0.0   \n",
       "2017-01-01 05:00:00        0.0  18.900  Micrograms/cubic meter (LC)  0.0   \n",
       "2017-01-01 06:00:00        0.0   7.000                        Knots  0.0   \n",
       "2017-01-01 06:00:00        0.0   4.900  Micrograms/cubic meter (LC)  0.0   \n",
       "\n",
       "                         ...              lon  GISDatum    elev method_code  \\\n",
       "datetime                 ...                                                  \n",
       "2017-01-01 04:00:00      ...      -106.455227     WGS84  1122.0        50.0   \n",
       "2017-01-01 04:00:00      ...      -106.455227     WGS84  1122.0       170.0   \n",
       "2017-01-01 04:00:00      ...       -95.294722     WGS84    10.0        40.0   \n",
       "2017-01-01 05:00:00      ...       -96.860117     WGS84   127.0       593.0   \n",
       "2017-01-01 05:00:00      ...       -95.294722     WGS84    10.0        40.0   \n",
       "2017-01-01 05:00:00      ...      -106.455227     WGS84  1122.0        50.0   \n",
       "2017-01-01 05:00:00      ...       -95.294722     WGS84    10.0        47.0   \n",
       "2017-01-01 05:00:00      ...      -106.455227     WGS84  1122.0       170.0   \n",
       "2017-01-01 06:00:00      ...      -106.455227     WGS84  1122.0        50.0   \n",
       "2017-01-01 06:00:00      ...      -106.455227     WGS84  1122.0       170.0   \n",
       "\n",
       "                     mpc  mpc_value  uncertainty  qualifiers  unitCode  \\\n",
       "datetime                                                                 \n",
       "2017-01-01 04:00:00  1.0      0.600          NaN         NaN      13.0   \n",
       "2017-01-01 04:00:00  1.0      5.000          NaN         NaN     105.0   \n",
       "2017-01-01 04:00:00  1.0    -60.000          NaN         NaN      15.0   \n",
       "2017-01-01 05:00:00  1.0      0.020          NaN         NaN       7.0   \n",
       "2017-01-01 05:00:00  1.0    -60.000          NaN         NaN      15.0   \n",
       "2017-01-01 05:00:00  1.0      0.600          NaN         NaN      13.0   \n",
       "2017-01-01 05:00:00  1.0      0.005          NaN         NaN       7.0   \n",
       "2017-01-01 05:00:00  1.0      5.000          NaN         NaN     105.0   \n",
       "2017-01-01 06:00:00  1.0      0.600          NaN         NaN      13.0   \n",
       "2017-01-01 06:00:00  1.0      5.000          NaN         NaN     105.0   \n",
       "\n",
       "                    parameterCode  \n",
       "datetime                           \n",
       "2017-01-01 04:00:00       61101.0  \n",
       "2017-01-01 04:00:00       88101.0  \n",
       "2017-01-01 04:00:00       62101.0  \n",
       "2017-01-01 05:00:00       42101.0  \n",
       "2017-01-01 05:00:00       62101.0  \n",
       "2017-01-01 05:00:00       61101.0  \n",
       "2017-01-01 05:00:00       44201.0  \n",
       "2017-01-01 05:00:00       88101.0  \n",
       "2017-01-01 06:00:00       61101.0  \n",
       "2017-01-01 06:00:00       88101.0  \n",
       "\n",
       "[10 rows x 22 columns]"
      ]
     },
     "execution_count": 13,
     "metadata": {},
     "output_type": "execute_result"
    }
   ],
   "source": [
    "allData=pd.concat(list(filesFrame.table))\n",
    "allData.sort_index(inplace=True)\n",
    "allData.drop_duplicates(['datetime','value','parameter','unit'], inplace=True)\n",
    "allData.tail(10)"
   ]
  },
  {
   "cell_type": "code",
   "execution_count": 15,
   "metadata": {},
   "outputs": [
    {
     "name": "stdout",
     "output_type": "stream",
     "text": [
      "['Carbon monoxide' 'Ozone' 'Wind Speed - Scalar' 'PM2.5 - Local Conditions'\n",
      " 'Outdoor Temperature']\n"
     ]
    }
   ],
   "source": [
    "print(allData.parameter.unique())\n",
    "[CO, O3, PM2, WS, Temp]=allData.parameter.unique()"
   ]
  },
  {
   "cell_type": "code",
   "execution_count": 19,
   "metadata": {},
   "outputs": [
    {
     "data": {
      "text/plain": [
       "<matplotlib.axes._subplots.AxesSubplot at 0x10a9e27b8>"
      ]
     },
     "execution_count": 19,
     "metadata": {},
     "output_type": "execute_result"
    },
    {
     "data": {
      "image/png": "[encoded data removed]",
      "text/plain": [
       "<matplotlib.figure.Figure at 0x10edd67b8>"
      ]
     },
     "metadata": {},
     "output_type": "display_data"
    }
   ],
   "source": [
    "allData[allData.parameter==CO].value.plot()\n",
    "# allData[allData.parameter==O3].value.plot()"
   ]
  },
  {
   "cell_type": "code",
   "execution_count": 20,
   "metadata": {},
   "outputs": [
    {
     "data": {
      "text/plain": [
       "<matplotlib.axes._subplots.AxesSubplot at 0x117f18da0>"
      ]
     },
     "execution_count": 20,
     "metadata": {},
     "output_type": "execute_result"
    },
    {
     "data": {
      "image/png": "[encoded data removed]",
      "text/plain": [
       "<matplotlib.figure.Figure at 0x118c942b0>"
      ]
     },
     "metadata": {},
     "output_type": "display_data"
    }
   ],
   "source": [
    "allData[allData.parameter==O3].value.plot()"
   ]
  },
  {
   "cell_type": "code",
   "execution_count": 21,
   "metadata": {},
   "outputs": [
    {
     "data": {
      "text/plain": [
       "<matplotlib.axes._subplots.AxesSubplot at 0x117f18400>"
      ]
     },
     "execution_count": 21,
     "metadata": {},
     "output_type": "execute_result"
    },
    {
     "data": {
      "image/png": "[encoded data removed]",
      "text/plain": [
       "<matplotlib.figure.Figure at 0x117f33390>"
      ]
     },
     "metadata": {},
     "output_type": "display_data"
    }
   ],
   "source": [
    "allData[allData.parameter==PM2].value.plot()"
   ]
  },
  {
   "cell_type": "code",
   "execution_count": 22,
   "metadata": {},
   "outputs": [
    {
     "data": {
      "text/plain": [
       "<matplotlib.axes._subplots.AxesSubplot at 0x11b949cf8>"
      ]
     },
     "execution_count": 22,
     "metadata": {},
     "output_type": "execute_result"
    },
    {
     "data": {
      "image/png": "[encoded data removed]",
      "text/plain": [
       "<matplotlib.figure.Figure at 0x119f75710>"
      ]
     },
     "metadata": {},
     "output_type": "display_data"
    }
   ],
   "source": [
    "allData[allData.parameter==WS].value.plot()"
   ]
  },
  {
   "cell_type": "code",
   "execution_count": 23,
   "metadata": {},
   "outputs": [
    {
     "data": {
      "text/plain": [
       "<matplotlib.axes._subplots.AxesSubplot at 0x11dda14e0>"
      ]
     },
     "execution_count": 23,
     "metadata": {},
     "output_type": "execute_result"
    },
    {
     "data": {
      "image/png": "[encoded data removed]",
      "text/plain": [
       "<matplotlib.figure.Figure at 0x11ddabeb8>"
      ]
     },
     "metadata": {},
     "output_type": "display_data"
    }
   ],
   "source": [
    "allData[allData.parameter==Temp].value.plot()"
   ]
  },
  {
   "cell_type": "code",
   "execution_count": null,
   "metadata": {},
   "outputs": [],
   "source": []
  }
 ],
 "metadata": {
  "kernelspec": {
   "display_name": "Python 3",
   "language": "python",
   "name": "python3"
  },
  "language_info": {
   "codemirror_mode": {
    "name": "ipython",
    "version": 3
   },
   "file_extension": ".py",
   "mimetype": "text/x-python",
   "name": "python",
   "nbconvert_exporter": "python",
   "pygments_lexer": "ipython3",
   "version": "3.6.0"
  }
 },
 "nbformat": 4,
 "nbformat_minor": 2
}
