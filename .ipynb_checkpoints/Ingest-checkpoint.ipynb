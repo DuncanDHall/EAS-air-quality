{
 "cells": [
  {
   "cell_type": "code",
   "execution_count": 1,
   "metadata": {},
   "outputs": [],
   "source": [
    "%matplotlib inline\n",
    "\n",
    "import numpy as np\n",
    "import pandas as pd\n",
    "\n",
    "import os\n",
    "from io import StringIO"
   ]
  },
  {
   "cell_type": "code",
   "execution_count": 2,
   "metadata": {},
   "outputs": [],
   "source": [
    "heads = {\n",
    "    'RD':\"RD|Action Code|State Code|County Code|Site ID|Parameter|POC|Sample Duration|Unit|Method|Date|Start Time|Sample Value|Null Data Code|Sampling Frequency|Monitor Protocol (MP) ID|Qualifier - 1|Qualifier - 2|Qualifier - 3|Qualifier - 4|Qualifier - 5|Qualifier - 6|Qualifier - 7|Qualifier - 8|Qualifier - 9|Qualifier - 10|Alternate Method Detectable Limit|Uncertainty\",\n",
    "    'RC':\"RC|Action Code|State Code|County Code|Site ID|Parameter|POC|Unit|Method|Year|Period|Number of Samples|Composite Type|Sample Value|Monitor Protocol (MP) ID|Qualifier - 1|Qualifier - 2|Qualifier - 3|Qualifier - 4|Qualifier - 5|Qualifier - 6|Qualifier - 7|Qualifier - 8|Qualifier - 9|Qualifier - 10|Alternate Method Detectable Limit|Uncertainty\",\n",
    "    '1':\"SITE INFORMATION TYPE = 1|STATE_CODE|STATE_NAME|COUNTY_CODE|COUNTY_NAME|SITE_ID|PARAMETER_CODE|PARAMETER_DESC|CITY_CODE|CITY_NAME|STREET_ADDRESS|AQCR_CODE|AQCR_NAME|CBSA_CODE|CBSA_NAME|CSA_CODE|CSA_NAME|EPA_REGION|UAR_CODE|UAR_NAME|LAND_USE|LOC_SET|LATITUDE|LONGITUDE|UTM_ZONE|UTM_NORTHING|UTM_EASTING|HORIZ_COLLECT|HORIZ_METHOD|HORIZ_DATUM|HORIZ_ACC|HORIZ_SCALE|ELEVATION_MSL|VERT_COLLECT|VERT_METHOD|VERT_DATUM|VERT_ACC\",\n",
    "    '2':\"DAILY VALUE TYPE = 2|STATE_CODE|COUNTY_CODE|SITE_ID|PARAMETER_CODE|UNITS|PRIMARY_MONITOR_POC|MONITOR_TYPE|PQAO|PQAO_NAME|SAMPLE_DATE|VALUE|SOURCE|EDT_ID\"\n",
    "}"
   ]
  },
  {
   "cell_type": "code",
   "execution_count": 5,
   "metadata": {},
   "outputs": [
    {
     "name": "stdout",
     "output_type": "stream",
     "text": [
      "['raw_data/Harrisburg_Lancaster_York_MSA_PM25SiteLevel_2014-2016.txt', 'raw_data/Lancaster_Met_2016.txt', 'raw_data/Harrisburg_Lancaster_York_MSA_CO_2014-2016.txt', 'raw_data/Harrisburg_Lancaster_York_MSA_PM10_2014-2016.txt', 'raw_data/Hershey_Met_2014.txt', 'raw_data/York_Met_2016.txt', 'raw_data/Harrisburg_Met_2015.txt', 'raw_data/York_Met_2015.txt', 'raw_data/Harrisburg_Lancaster_York_MSA_SO2_2014-2016.txt', 'raw_data/Harrisburg_Met_2016.txt', 'raw_data/Hershey_Met_2016.txt', 'raw_data/Lancaster_Met_2015.txt', 'raw_data/Lancaster_Met_2014.txt', 'raw_data/York_Met_2014.txt', 'raw_data/Harrisburg_Met_2014.txt', 'raw_data/PerryCounty_Met_2014.txt', 'raw_data/Hershey_Met_2015.txt']\n"
     ]
    }
   ],
   "source": [
    "basePath='raw_data/'\n",
    "files=[basePath+f for f in os.listdir(basePath) if f.endswith('.txt')]\n",
    "file=basePath+files[0]\n",
    "print(files)"
   ]
  },
  {
   "cell_type": "code",
   "execution_count": 6,
   "metadata": {},
   "outputs": [
    {
     "data": {
      "text/html": [
       "<div>\n",
       "<style>\n",
       "    .dataframe thead tr:only-child th {\n",
       "        text-align: right;\n",
       "    }\n",
       "\n",
       "    .dataframe thead th {\n",
       "        text-align: left;\n",
       "    }\n",
       "\n",
       "    .dataframe tbody tr th {\n",
       "        vertical-align: top;\n",
       "    }\n",
       "</style>\n",
       "<table border=\"1\" class=\"dataframe\">\n",
       "  <thead>\n",
       "    <tr style=\"text-align: right;\">\n",
       "      <th></th>\n",
       "      <th>raw</th>\n",
       "    </tr>\n",
       "  </thead>\n",
       "  <tbody>\n",
       "    <tr>\n",
       "      <th>0</th>\n",
       "      <td># RD|Action Code|State Code|County Code|Site I...</td>\n",
       "    </tr>\n",
       "    <tr>\n",
       "      <th>1</th>\n",
       "      <td># RC|Action Code|State Code|County Code|Site I...</td>\n",
       "    </tr>\n",
       "    <tr>\n",
       "      <th>2</th>\n",
       "      <td>RD|I|42|043|0401|81102|1|7|001|063|20140111|00...</td>\n",
       "    </tr>\n",
       "    <tr>\n",
       "      <th>3</th>\n",
       "      <td>RD|I|42|043|0401|81102|1|7|001|063|20140117|00...</td>\n",
       "    </tr>\n",
       "    <tr>\n",
       "      <th>4</th>\n",
       "      <td>RD|I|42|043|0401|81102|1|7|001|063|20140123|00...</td>\n",
       "    </tr>\n",
       "  </tbody>\n",
       "</table>\n",
       "</div>"
      ],
      "text/plain": [
       "                                                 raw\n",
       "0  # RD|Action Code|State Code|County Code|Site I...\n",
       "1  # RC|Action Code|State Code|County Code|Site I...\n",
       "2  RD|I|42|043|0401|81102|1|7|001|063|20140111|00...\n",
       "3  RD|I|42|043|0401|81102|1|7|001|063|20140117|00...\n",
       "4  RD|I|42|043|0401|81102|1|7|001|063|20140123|00..."
      ]
     },
     "execution_count": 6,
     "metadata": {},
     "output_type": "execute_result"
    }
   ],
   "source": [
    "with open(files[3]) as f:\n",
    "    lines1 = pd.DataFrame(f.readlines(),columns=['raw'])\n",
    "lines1.head()"
   ]
  },
  {
   "cell_type": "code",
   "execution_count": 7,
   "metadata": {},
   "outputs": [
    {
     "data": {
      "text/html": [
       "<div>\n",
       "<style>\n",
       "    .dataframe thead tr:only-child th {\n",
       "        text-align: right;\n",
       "    }\n",
       "\n",
       "    .dataframe thead th {\n",
       "        text-align: left;\n",
       "    }\n",
       "\n",
       "    .dataframe tbody tr th {\n",
       "        vertical-align: top;\n",
       "    }\n",
       "</style>\n",
       "<table border=\"1\" class=\"dataframe\">\n",
       "  <thead>\n",
       "    <tr style=\"text-align: right;\">\n",
       "      <th></th>\n",
       "      <th>raw</th>\n",
       "      <th>comment</th>\n",
       "      <th>type</th>\n",
       "    </tr>\n",
       "  </thead>\n",
       "  <tbody>\n",
       "    <tr>\n",
       "      <th>70154</th>\n",
       "      <td>RD|I|42|133|0008|81102|5|1|001|079|20151231|20...</td>\n",
       "      <td>False</td>\n",
       "      <td>RD</td>\n",
       "    </tr>\n",
       "    <tr>\n",
       "      <th>70155</th>\n",
       "      <td>RD|I|42|133|0008|81102|5|1|001|079|20151231|21...</td>\n",
       "      <td>False</td>\n",
       "      <td>RD</td>\n",
       "    </tr>\n",
       "    <tr>\n",
       "      <th>70156</th>\n",
       "      <td>RD|I|42|133|0008|81102|5|1|001|079|20151231|22...</td>\n",
       "      <td>False</td>\n",
       "      <td>RD</td>\n",
       "    </tr>\n",
       "    <tr>\n",
       "      <th>70157</th>\n",
       "      <td>RD|I|42|133|0008|81102|5|1|001|079|20151231|23...</td>\n",
       "      <td>False</td>\n",
       "      <td>RD</td>\n",
       "    </tr>\n",
       "    <tr>\n",
       "      <th>70158</th>\n",
       "      <td># 70156 records were written\\n</td>\n",
       "      <td>True</td>\n",
       "      <td># 70156 records were written\\n</td>\n",
       "    </tr>\n",
       "  </tbody>\n",
       "</table>\n",
       "</div>"
      ],
      "text/plain": [
       "                                                     raw  comment  \\\n",
       "70154  RD|I|42|133|0008|81102|5|1|001|079|20151231|20...    False   \n",
       "70155  RD|I|42|133|0008|81102|5|1|001|079|20151231|21...    False   \n",
       "70156  RD|I|42|133|0008|81102|5|1|001|079|20151231|22...    False   \n",
       "70157  RD|I|42|133|0008|81102|5|1|001|079|20151231|23...    False   \n",
       "70158                     # 70156 records were written\\n     True   \n",
       "\n",
       "                                 type  \n",
       "70154                              RD  \n",
       "70155                              RD  \n",
       "70156                              RD  \n",
       "70157                              RD  \n",
       "70158  # 70156 records were written\\n  "
      ]
     },
     "execution_count": 7,
     "metadata": {},
     "output_type": "execute_result"
    }
   ],
   "source": [
    "lines1['comment']=[s.startswith('#') for s in lines1.raw]\n",
    "lines1['type']=[s.split('|')[0] for s in lines1.raw]\n",
    "lines1.tail()"
   ]
  },
  {
   "cell_type": "code",
   "execution_count": 8,
   "metadata": {},
   "outputs": [
    {
     "data": {
      "text/html": [
       "<div>\n",
       "<style>\n",
       "    .dataframe thead tr:only-child th {\n",
       "        text-align: right;\n",
       "    }\n",
       "\n",
       "    .dataframe thead th {\n",
       "        text-align: left;\n",
       "    }\n",
       "\n",
       "    .dataframe tbody tr th {\n",
       "        vertical-align: top;\n",
       "    }\n",
       "</style>\n",
       "<table border=\"1\" class=\"dataframe\">\n",
       "  <thead>\n",
       "    <tr style=\"text-align: right;\">\n",
       "      <th></th>\n",
       "      <th>raw</th>\n",
       "      <th>comment</th>\n",
       "      <th>type</th>\n",
       "    </tr>\n",
       "  </thead>\n",
       "  <tbody>\n",
       "    <tr>\n",
       "      <th>70153</th>\n",
       "      <td>RD|I|42|133|0008|81102|5|1|001|079|20151231|19...</td>\n",
       "      <td>False</td>\n",
       "      <td>RD</td>\n",
       "    </tr>\n",
       "    <tr>\n",
       "      <th>70154</th>\n",
       "      <td>RD|I|42|133|0008|81102|5|1|001|079|20151231|20...</td>\n",
       "      <td>False</td>\n",
       "      <td>RD</td>\n",
       "    </tr>\n",
       "    <tr>\n",
       "      <th>70155</th>\n",
       "      <td>RD|I|42|133|0008|81102|5|1|001|079|20151231|21...</td>\n",
       "      <td>False</td>\n",
       "      <td>RD</td>\n",
       "    </tr>\n",
       "    <tr>\n",
       "      <th>70156</th>\n",
       "      <td>RD|I|42|133|0008|81102|5|1|001|079|20151231|22...</td>\n",
       "      <td>False</td>\n",
       "      <td>RD</td>\n",
       "    </tr>\n",
       "    <tr>\n",
       "      <th>70157</th>\n",
       "      <td>RD|I|42|133|0008|81102|5|1|001|079|20151231|23...</td>\n",
       "      <td>False</td>\n",
       "      <td>RD</td>\n",
       "    </tr>\n",
       "  </tbody>\n",
       "</table>\n",
       "</div>"
      ],
      "text/plain": [
       "                                                     raw  comment type\n",
       "70153  RD|I|42|133|0008|81102|5|1|001|079|20151231|19...    False   RD\n",
       "70154  RD|I|42|133|0008|81102|5|1|001|079|20151231|20...    False   RD\n",
       "70155  RD|I|42|133|0008|81102|5|1|001|079|20151231|21...    False   RD\n",
       "70156  RD|I|42|133|0008|81102|5|1|001|079|20151231|22...    False   RD\n",
       "70157  RD|I|42|133|0008|81102|5|1|001|079|20151231|23...    False   RD"
      ]
     },
     "execution_count": 8,
     "metadata": {},
     "output_type": "execute_result"
    }
   ],
   "source": [
    "# Drop comment lines\n",
    "lines1.drop(lines1[lines1.comment].index, inplace=True)\n",
    "lines1.tail()"
   ]
  },
  {
   "cell_type": "code",
   "execution_count": 13,
   "metadata": {},
   "outputs": [
    {
     "name": "stdout",
     "output_type": "stream",
     "text": [
      "{'RD': <_io.StringIO object at 0x7f3be9a39a68>}\n"
     ]
    }
   ],
   "source": [
    "# Split into row types\n",
    "types=lines1.type.unique()\n",
    "outputs = dict()\n",
    "for t in types:\n",
    "    if t not in heads:\n",
    "        raise Exception('Unknown row type '+t)\n",
    "    outputs[t] = StringIO(heads[t]+'\\n'+''.join(lines1[lines1.type==t].raw))\n",
    "\n",
    "print(outputs)"
   ]
  },
  {
   "cell_type": "code",
   "execution_count": 15,
   "metadata": {},
   "outputs": [],
   "source": [
    "# Functionize everything!\n",
    "def load_split_file(file):\n",
    "    with open(file) as f:\n",
    "        lines1 = pd.DataFrame(f.readlines(),columns=['raw'])\n",
    "    \n",
    "    lines1['comment']=[s.startswith('#') for s in lines1.raw]\n",
    "    lines1['type']=[s.split('|')[0] for s in lines1.raw]\n",
    "    \n",
    "    # Drop comment lines\n",
    "    lines1.drop(lines1[lines1.comment].index, inplace=True)\n",
    "    lines1.tail()\n",
    "    \n",
    "    # Split into row types\n",
    "    types=lines1.type.unique()\n",
    "    outputs = dict()\n",
    "    for t in types:\n",
    "        if t not in heads:\n",
    "            raise Exception('Unknown row type '+t)\n",
    "        outputs[t] = StringIO(heads[t]+'\\n'+''.join(lines1[lines1.type==t].raw))\n",
    "\n",
    "    return outputs"
   ]
  },
  {
   "cell_type": "code",
   "execution_count": 19,
   "metadata": {},
   "outputs": [
    {
     "name": "stdout",
     "output_type": "stream",
     "text": [
      "{'2': <_io.StringIO object at 0x7f3be9a39dc8>, '1': <_io.StringIO object at 0x7f3be9a39c18>}\n",
      "{'RD': <_io.StringIO object at 0x7f3be9a39c18>}\n",
      "{'RD': <_io.StringIO object at 0x7f3be9a39c18>}\n",
      "{'RD': <_io.StringIO object at 0x7f3be9a39438>}\n",
      "{'RD': <_io.StringIO object at 0x7f3be9a39438>}\n",
      "{'RD': <_io.StringIO object at 0x7f3be9a39438>}\n",
      "{'RD': <_io.StringIO object at 0x7f3be9a39438>}\n",
      "{'RD': <_io.StringIO object at 0x7f3be9a39c18>}\n",
      "{'RD': <_io.StringIO object at 0x7f3be9a39c18>}\n",
      "{'RD': <_io.StringIO object at 0x7f3be9a39c18>}\n",
      "{'RD': <_io.StringIO object at 0x7f3be9a39c18>}\n",
      "{'RD': <_io.StringIO object at 0x7f3be9a39438>}\n",
      "{'RD': <_io.StringIO object at 0x7f3be9a39438>}\n",
      "{'RD': <_io.StringIO object at 0x7f3be9a39438>}\n",
      "{'RD': <_io.StringIO object at 0x7f3be9a39c18>}\n",
      "{'RD': <_io.StringIO object at 0x7f3be9a39c18>}\n",
      "{'RD': <_io.StringIO object at 0x7f3be9a39c18>}\n"
     ]
    }
   ],
   "source": [
    "for f in files:\n",
    "    print(load_split_file(f))"
   ]
  },
  {
   "cell_type": "code",
   "execution_count": null,
   "metadata": {},
   "outputs": [],
   "source": []
  }
 ],
 "metadata": {
  "kernelspec": {
   "display_name": "Python 3",
   "language": "python",
   "name": "python3"
  },
  "language_info": {
   "codemirror_mode": {
    "name": "ipython",
    "version": 3
   },
   "file_extension": ".py",
   "mimetype": "text/x-python",
   "name": "python",
   "nbconvert_exporter": "python",
   "pygments_lexer": "ipython3",
   "version": "3.6.0"
  }
 },
 "nbformat": 4,
 "nbformat_minor": 2
}
