{
 "cells": [
  {
   "cell_type": "code",
   "execution_count": 1,
   "metadata": {},
   "outputs": [],
   "source": [
    "%matplotlib inline\n",
    "\n",
    "import matplotlib.pyplot as plt\n",
    "import numpy as np\n",
    "import pandas as pd\n",
    "import os\n",
    "\n",
    "# Stuff for windrose\n",
    "from windrose import WindroseAxes\n",
    "import matplotlib.cm as cm\n",
    "\n",
    "# plt.rcParams['figure.figsize'] = [11,7]"
   ]
  },
  {
   "cell_type": "code",
   "execution_count": 2,
   "metadata": {},
   "outputs": [],
   "source": [
    "unitsTab=pd.read_csv('codes/units.csv')\n",
    "unitsTab.index = unitsTab['Unit Code']\n",
    "unitsDict=unitsTab.to_dict()[\"Units\"]"
   ]
  },
  {
   "cell_type": "code",
   "execution_count": 3,
   "metadata": {},
   "outputs": [],
   "source": [
    "paramsTab=pd.read_csv('codes/parameters.csv')\n",
    "paramsTab.index = paramsTab['Parameter Code']\n",
    "paramsDict = paramsTab.to_dict()['Parameter']"
   ]
  },
  {
   "cell_type": "code",
   "execution_count": 4,
   "metadata": {},
   "outputs": [
    {
     "name": "stderr",
     "output_type": "stream",
     "text": [
      "/usr/local/lib/python3.5/dist-packages/IPython/core/interactiveshell.py:2728: DtypeWarning: Columns (0,19) have mixed types. Specify dtype option on import or set low_memory=False.\n",
      "  interactivity=interactivity, compiler=compiler, result=result)\n"
     ]
    },
    {
     "data": {
      "text/html": [
       "<div>\n",
       "<style>\n",
       "    .dataframe thead tr:only-child th {\n",
       "        text-align: right;\n",
       "    }\n",
       "\n",
       "    .dataframe thead th {\n",
       "        text-align: left;\n",
       "    }\n",
       "\n",
       "    .dataframe tbody tr th {\n",
       "        vertical-align: top;\n",
       "    }\n",
       "</style>\n",
       "<table border=\"1\" class=\"dataframe\">\n",
       "  <thead>\n",
       "    <tr style=\"text-align: right;\">\n",
       "      <th></th>\n",
       "      <th>site</th>\n",
       "      <th>data_status</th>\n",
       "      <th>action_code</th>\n",
       "      <th>datetime</th>\n",
       "      <th>parameter</th>\n",
       "      <th>duration</th>\n",
       "      <th>value</th>\n",
       "      <th>unit</th>\n",
       "      <th>qc</th>\n",
       "      <th>poc</th>\n",
       "      <th>lat</th>\n",
       "      <th>lon</th>\n",
       "      <th>GISDatum</th>\n",
       "      <th>elev</th>\n",
       "      <th>method_code</th>\n",
       "      <th>mpc</th>\n",
       "      <th>mpc_value</th>\n",
       "    </tr>\n",
       "    <tr>\n",
       "      <th>datetime</th>\n",
       "      <th></th>\n",
       "      <th></th>\n",
       "      <th></th>\n",
       "      <th></th>\n",
       "      <th></th>\n",
       "      <th></th>\n",
       "      <th></th>\n",
       "      <th></th>\n",
       "      <th></th>\n",
       "      <th></th>\n",
       "      <th></th>\n",
       "      <th></th>\n",
       "      <th></th>\n",
       "      <th></th>\n",
       "      <th></th>\n",
       "      <th></th>\n",
       "      <th></th>\n",
       "    </tr>\n",
       "  </thead>\n",
       "  <tbody>\n",
       "    <tr>\n",
       "      <th>2017-01-01 02:00:00</th>\n",
       "      <td>840420430401</td>\n",
       "      <td>0.0</td>\n",
       "      <td>10.0</td>\n",
       "      <td>2017-01-01 02:00:00</td>\n",
       "      <td>88101.0</td>\n",
       "      <td>60.0</td>\n",
       "      <td>2.500</td>\n",
       "      <td>105.0</td>\n",
       "      <td>0.0</td>\n",
       "      <td>3.0</td>\n",
       "      <td>40.246992</td>\n",
       "      <td>-76.846988</td>\n",
       "      <td>WGS84</td>\n",
       "      <td>125.0</td>\n",
       "      <td>170.0</td>\n",
       "      <td>1.0</td>\n",
       "      <td>5.000</td>\n",
       "    </tr>\n",
       "    <tr>\n",
       "      <th>2017-01-01 03:00:00</th>\n",
       "      <td>840420430401</td>\n",
       "      <td>0.0</td>\n",
       "      <td>10.0</td>\n",
       "      <td>2017-01-01 03:00:00</td>\n",
       "      <td>44201.0</td>\n",
       "      <td>60.0</td>\n",
       "      <td>0.031</td>\n",
       "      <td>7.0</td>\n",
       "      <td>0.0</td>\n",
       "      <td>1.0</td>\n",
       "      <td>40.246992</td>\n",
       "      <td>-76.846988</td>\n",
       "      <td>WGS84</td>\n",
       "      <td>125.0</td>\n",
       "      <td>87.0</td>\n",
       "      <td>1.0</td>\n",
       "      <td>0.005</td>\n",
       "    </tr>\n",
       "    <tr>\n",
       "      <th>2017-01-01 03:00:00</th>\n",
       "      <td>840420430401</td>\n",
       "      <td>0.0</td>\n",
       "      <td>10.0</td>\n",
       "      <td>2017-01-01 03:00:00</td>\n",
       "      <td>88101.0</td>\n",
       "      <td>60.0</td>\n",
       "      <td>3.200</td>\n",
       "      <td>105.0</td>\n",
       "      <td>0.0</td>\n",
       "      <td>3.0</td>\n",
       "      <td>40.246992</td>\n",
       "      <td>-76.846988</td>\n",
       "      <td>WGS84</td>\n",
       "      <td>125.0</td>\n",
       "      <td>170.0</td>\n",
       "      <td>1.0</td>\n",
       "      <td>5.000</td>\n",
       "    </tr>\n",
       "    <tr>\n",
       "      <th>2017-01-01 04:00:00</th>\n",
       "      <td>840420430401</td>\n",
       "      <td>0.0</td>\n",
       "      <td>10.0</td>\n",
       "      <td>2017-01-01 04:00:00</td>\n",
       "      <td>44201.0</td>\n",
       "      <td>60.0</td>\n",
       "      <td>0.030</td>\n",
       "      <td>7.0</td>\n",
       "      <td>0.0</td>\n",
       "      <td>1.0</td>\n",
       "      <td>40.246992</td>\n",
       "      <td>-76.846988</td>\n",
       "      <td>WGS84</td>\n",
       "      <td>125.0</td>\n",
       "      <td>87.0</td>\n",
       "      <td>1.0</td>\n",
       "      <td>0.005</td>\n",
       "    </tr>\n",
       "    <tr>\n",
       "      <th>2017-01-01 04:00:00</th>\n",
       "      <td>840420430401</td>\n",
       "      <td>0.0</td>\n",
       "      <td>10.0</td>\n",
       "      <td>2017-01-01 04:00:00</td>\n",
       "      <td>88101.0</td>\n",
       "      <td>60.0</td>\n",
       "      <td>3.300</td>\n",
       "      <td>105.0</td>\n",
       "      <td>0.0</td>\n",
       "      <td>3.0</td>\n",
       "      <td>40.246992</td>\n",
       "      <td>-76.846988</td>\n",
       "      <td>WGS84</td>\n",
       "      <td>125.0</td>\n",
       "      <td>170.0</td>\n",
       "      <td>1.0</td>\n",
       "      <td>5.000</td>\n",
       "    </tr>\n",
       "  </tbody>\n",
       "</table>\n",
       "</div>"
      ],
      "text/plain": [
       "                             site  data_status  action_code  \\\n",
       "datetime                                                      \n",
       "2017-01-01 02:00:00  840420430401          0.0         10.0   \n",
       "2017-01-01 03:00:00  840420430401          0.0         10.0   \n",
       "2017-01-01 03:00:00  840420430401          0.0         10.0   \n",
       "2017-01-01 04:00:00  840420430401          0.0         10.0   \n",
       "2017-01-01 04:00:00  840420430401          0.0         10.0   \n",
       "\n",
       "                               datetime  parameter  duration  value   unit  \\\n",
       "datetime                                                                     \n",
       "2017-01-01 02:00:00 2017-01-01 02:00:00    88101.0      60.0  2.500  105.0   \n",
       "2017-01-01 03:00:00 2017-01-01 03:00:00    44201.0      60.0  0.031    7.0   \n",
       "2017-01-01 03:00:00 2017-01-01 03:00:00    88101.0      60.0  3.200  105.0   \n",
       "2017-01-01 04:00:00 2017-01-01 04:00:00    44201.0      60.0  0.030    7.0   \n",
       "2017-01-01 04:00:00 2017-01-01 04:00:00    88101.0      60.0  3.300  105.0   \n",
       "\n",
       "                      qc  poc        lat        lon GISDatum   elev  \\\n",
       "datetime                                                              \n",
       "2017-01-01 02:00:00  0.0  3.0  40.246992 -76.846988    WGS84  125.0   \n",
       "2017-01-01 03:00:00  0.0  1.0  40.246992 -76.846988    WGS84  125.0   \n",
       "2017-01-01 03:00:00  0.0  3.0  40.246992 -76.846988    WGS84  125.0   \n",
       "2017-01-01 04:00:00  0.0  1.0  40.246992 -76.846988    WGS84  125.0   \n",
       "2017-01-01 04:00:00  0.0  3.0  40.246992 -76.846988    WGS84  125.0   \n",
       "\n",
       "                     method_code  mpc  mpc_value  \n",
       "datetime                                          \n",
       "2017-01-01 02:00:00        170.0  1.0      5.000  \n",
       "2017-01-01 03:00:00         87.0  1.0      0.005  \n",
       "2017-01-01 03:00:00        170.0  1.0      5.000  \n",
       "2017-01-01 04:00:00         87.0  1.0      0.005  \n",
       "2017-01-01 04:00:00        170.0  1.0      5.000  "
      ]
     },
     "execution_count": 4,
     "metadata": {},
     "output_type": "execute_result"
    }
   ],
   "source": [
    "df=pd.read_csv('raw_data/long_term.csv',parse_dates=[3])\n",
    "df.dropna(subset=['datetime'],inplace=True)\n",
    "df.drop(['uncertainty', 'qualifiers', 'frequency'],axis=1, inplace=True)\n",
    "df.index = df.datetime\n",
    "df.sort_index(inplace=True)\n",
    "df.site = df.site.astype(str)\n",
    "df.tail()"
   ]
  },
  {
   "cell_type": "code",
   "execution_count": 5,
   "metadata": {},
   "outputs": [],
   "source": [
    "df.sort_index();"
   ]
  },
  {
   "cell_type": "code",
   "execution_count": 6,
   "metadata": {},
   "outputs": [],
   "source": [
    "df.replace({'unit':unitsDict, 'parameter':paramsDict}, inplace=True)"
   ]
  },
  {
   "cell_type": "code",
   "execution_count": 7,
   "metadata": {},
   "outputs": [
    {
     "name": "stdout",
     "output_type": "stream",
     "text": [
      "['Sulfur dioxide' 'Nitrogen dioxide (NO2)' 'Ozone' 'PM10 Total 0-10um STP'\n",
      " 'Carbon monoxide' 'PM2.5 - Local Conditions']\n"
     ]
    }
   ],
   "source": [
    "(PM10, O3, CO, NO2, SO2, PM25) = df.parameter.unique()\n",
    "print(df.parameter.unique())"
   ]
  },
  {
   "cell_type": "code",
   "execution_count": 8,
   "metadata": {},
   "outputs": [
    {
     "data": {
      "text/plain": [
       "[Timestamp('2000-01-01 05:00:00'), Timestamp('2017-01-01 04:00:00')]"
      ]
     },
     "execution_count": 8,
     "metadata": {},
     "output_type": "execute_result"
    }
   ],
   "source": [
    "[df.datetime.min(),df.datetime.max()]"
   ]
  },
  {
   "cell_type": "code",
   "execution_count": 9,
   "metadata": {},
   "outputs": [
    {
     "data": {
      "text/html": [
       "<div>\n",
       "<style>\n",
       "    .dataframe thead tr:only-child th {\n",
       "        text-align: right;\n",
       "    }\n",
       "\n",
       "    .dataframe thead th {\n",
       "        text-align: left;\n",
       "    }\n",
       "\n",
       "    .dataframe tbody tr th {\n",
       "        vertical-align: top;\n",
       "    }\n",
       "</style>\n",
       "<table border=\"1\" class=\"dataframe\">\n",
       "  <thead>\n",
       "    <tr style=\"text-align: right;\">\n",
       "      <th></th>\n",
       "      <th>data_status</th>\n",
       "      <th>action_code</th>\n",
       "      <th>duration</th>\n",
       "      <th>value</th>\n",
       "      <th>qc</th>\n",
       "      <th>poc</th>\n",
       "      <th>lat</th>\n",
       "      <th>lon</th>\n",
       "      <th>elev</th>\n",
       "      <th>method_code</th>\n",
       "      <th>mpc</th>\n",
       "      <th>mpc_value</th>\n",
       "    </tr>\n",
       "  </thead>\n",
       "  <tbody>\n",
       "    <tr>\n",
       "      <th>count</th>\n",
       "      <td>474936.000000</td>\n",
       "      <td>474936.0</td>\n",
       "      <td>474936.0</td>\n",
       "      <td>474936.000000</td>\n",
       "      <td>474936.0</td>\n",
       "      <td>474936.000000</td>\n",
       "      <td>4.749360e+05</td>\n",
       "      <td>4.749360e+05</td>\n",
       "      <td>474936.0</td>\n",
       "      <td>474936.000000</td>\n",
       "      <td>474936.0</td>\n",
       "      <td>474936.000000</td>\n",
       "    </tr>\n",
       "    <tr>\n",
       "      <th>mean</th>\n",
       "      <td>0.431784</td>\n",
       "      <td>10.0</td>\n",
       "      <td>60.0</td>\n",
       "      <td>9.239459</td>\n",
       "      <td>0.0</td>\n",
       "      <td>2.044937</td>\n",
       "      <td>4.024699e+01</td>\n",
       "      <td>-7.684699e+01</td>\n",
       "      <td>125.0</td>\n",
       "      <td>99.556633</td>\n",
       "      <td>1.0</td>\n",
       "      <td>-9.157663</td>\n",
       "    </tr>\n",
       "    <tr>\n",
       "      <th>std</th>\n",
       "      <td>0.495325</td>\n",
       "      <td>0.0</td>\n",
       "      <td>0.0</td>\n",
       "      <td>11.372314</td>\n",
       "      <td>0.0</td>\n",
       "      <td>1.631349</td>\n",
       "      <td>2.131630e-14</td>\n",
       "      <td>7.105435e-14</td>\n",
       "      <td>0.0</td>\n",
       "      <td>25.553775</td>\n",
       "      <td>0.0</td>\n",
       "      <td>20.981478</td>\n",
       "    </tr>\n",
       "    <tr>\n",
       "      <th>min</th>\n",
       "      <td>0.000000</td>\n",
       "      <td>10.0</td>\n",
       "      <td>60.0</td>\n",
       "      <td>-10.000000</td>\n",
       "      <td>0.0</td>\n",
       "      <td>1.000000</td>\n",
       "      <td>4.024699e+01</td>\n",
       "      <td>-7.684699e+01</td>\n",
       "      <td>125.0</td>\n",
       "      <td>79.000000</td>\n",
       "      <td>1.0</td>\n",
       "      <td>-50.000000</td>\n",
       "    </tr>\n",
       "    <tr>\n",
       "      <th>25%</th>\n",
       "      <td>0.000000</td>\n",
       "      <td>10.0</td>\n",
       "      <td>60.0</td>\n",
       "      <td>0.070000</td>\n",
       "      <td>0.0</td>\n",
       "      <td>1.000000</td>\n",
       "      <td>4.024699e+01</td>\n",
       "      <td>-7.684699e+01</td>\n",
       "      <td>125.0</td>\n",
       "      <td>87.000000</td>\n",
       "      <td>1.0</td>\n",
       "      <td>0.005000</td>\n",
       "    </tr>\n",
       "    <tr>\n",
       "      <th>50%</th>\n",
       "      <td>0.000000</td>\n",
       "      <td>10.0</td>\n",
       "      <td>60.0</td>\n",
       "      <td>5.000000</td>\n",
       "      <td>0.0</td>\n",
       "      <td>1.000000</td>\n",
       "      <td>4.024699e+01</td>\n",
       "      <td>-7.684699e+01</td>\n",
       "      <td>125.0</td>\n",
       "      <td>93.000000</td>\n",
       "      <td>1.0</td>\n",
       "      <td>0.400000</td>\n",
       "    </tr>\n",
       "    <tr>\n",
       "      <th>75%</th>\n",
       "      <td>1.000000</td>\n",
       "      <td>10.0</td>\n",
       "      <td>60.0</td>\n",
       "      <td>14.000000</td>\n",
       "      <td>0.0</td>\n",
       "      <td>3.000000</td>\n",
       "      <td>4.024699e+01</td>\n",
       "      <td>-7.684699e+01</td>\n",
       "      <td>125.0</td>\n",
       "      <td>100.000000</td>\n",
       "      <td>1.0</td>\n",
       "      <td>2.700000</td>\n",
       "    </tr>\n",
       "    <tr>\n",
       "      <th>max</th>\n",
       "      <td>1.000000</td>\n",
       "      <td>10.0</td>\n",
       "      <td>60.0</td>\n",
       "      <td>321.000000</td>\n",
       "      <td>0.0</td>\n",
       "      <td>5.000000</td>\n",
       "      <td>4.024699e+01</td>\n",
       "      <td>-7.684699e+01</td>\n",
       "      <td>125.0</td>\n",
       "      <td>170.000000</td>\n",
       "      <td>1.0</td>\n",
       "      <td>5.000000</td>\n",
       "    </tr>\n",
       "  </tbody>\n",
       "</table>\n",
       "</div>"
      ],
      "text/plain": [
       "         data_status  action_code  duration          value        qc  \\\n",
       "count  474936.000000     474936.0  474936.0  474936.000000  474936.0   \n",
       "mean        0.431784         10.0      60.0       9.239459       0.0   \n",
       "std         0.495325          0.0       0.0      11.372314       0.0   \n",
       "min         0.000000         10.0      60.0     -10.000000       0.0   \n",
       "25%         0.000000         10.0      60.0       0.070000       0.0   \n",
       "50%         0.000000         10.0      60.0       5.000000       0.0   \n",
       "75%         1.000000         10.0      60.0      14.000000       0.0   \n",
       "max         1.000000         10.0      60.0     321.000000       0.0   \n",
       "\n",
       "                 poc           lat           lon      elev    method_code  \\\n",
       "count  474936.000000  4.749360e+05  4.749360e+05  474936.0  474936.000000   \n",
       "mean        2.044937  4.024699e+01 -7.684699e+01     125.0      99.556633   \n",
       "std         1.631349  2.131630e-14  7.105435e-14       0.0      25.553775   \n",
       "min         1.000000  4.024699e+01 -7.684699e+01     125.0      79.000000   \n",
       "25%         1.000000  4.024699e+01 -7.684699e+01     125.0      87.000000   \n",
       "50%         1.000000  4.024699e+01 -7.684699e+01     125.0      93.000000   \n",
       "75%         3.000000  4.024699e+01 -7.684699e+01     125.0     100.000000   \n",
       "max         5.000000  4.024699e+01 -7.684699e+01     125.0     170.000000   \n",
       "\n",
       "            mpc      mpc_value  \n",
       "count  474936.0  474936.000000  \n",
       "mean        1.0      -9.157663  \n",
       "std         0.0      20.981478  \n",
       "min         1.0     -50.000000  \n",
       "25%         1.0       0.005000  \n",
       "50%         1.0       0.400000  \n",
       "75%         1.0       2.700000  \n",
       "max         1.0       5.000000  "
      ]
     },
     "execution_count": 9,
     "metadata": {},
     "output_type": "execute_result"
    }
   ],
   "source": [
    "df.describe()"
   ]
  },
  {
   "cell_type": "code",
   "execution_count": 10,
   "metadata": {},
   "outputs": [
    {
     "data": {
      "image/png": "[encoded data removed]",
      "text/plain": [
       "<matplotlib.figure.Figure at 0x7f38857f8048>"
      ]
     },
     "metadata": {},
     "output_type": "display_data"
    }
   ],
   "source": [
    "#df[df.parameter==O3].value.plot()\n",
    "params = list(df.parameter.unique())\n",
    "params.sort()\n",
    "\n",
    "ax = plt.figure(figsize=(15,4)).add_subplot(111)\n",
    "\n",
    "for i, param in enumerate(params):\n",
    "    data = df[df.parameter == param].index\n",
    "    ax.scatter(data, [i]*len(data))\n",
    "\n",
    "ax.set_xlim(left=pd.to_datetime('1/1/1995'))\n",
    "ax.legend(params);\n",
    "\n",
    "plt.savefig('data_availability.png',dpi=500)"
   ]
  },
  {
   "cell_type": "code",
   "execution_count": 11,
   "metadata": {},
   "outputs": [
    {
     "data": {
      "text/plain": [
       "Timestamp('2000-01-01 05:00:00')"
      ]
     },
     "execution_count": 11,
     "metadata": {},
     "output_type": "execute_result"
    }
   ],
   "source": [
    "df.index.min()"
   ]
  },
  {
   "cell_type": "code",
   "execution_count": 17,
   "metadata": {
    "scrolled": true
   },
   "outputs": [
    {
     "data": {
      "image/png": "[encoded data removed]",
      "text/plain": [
       "<matplotlib.figure.Figure at 0x7f385db2b9b0>"
      ]
     },
     "metadata": {},
     "output_type": "display_data"
    }
   ],
   "source": [
    "df['doy']=df.index.dayofyear\n",
    "df['woy']=(df.doy/7).astype(int)\n",
    "df['tod']=df.index.time\n",
    "\n",
    "fig = plt.figure(figsize=(12,4)) # Create matplotlib figure\n",
    "\n",
    "ax = fig.add_subplot(121) # Create matplotlib axes\n",
    "ax2 = fig.add_subplot(122)\n",
    "\n",
    "\n",
    "annual_mean = df[df.parameter==PM10].groupby('woy').value.mean()\n",
    "annual_mean.plot(ax=ax,color='blue')\n",
    "ax.legend(['PM10 (μg/m³)'],loc='upper left')\n",
    "ax.set_ylabel('PM10 (μg/m³)')\n",
    "ax.set_ylim(ymin=0)\n",
    "\n",
    "annual_mean = df[df.parameter==O3].groupby('woy').value.mean()\n",
    "annual_mean.plot(ax=ax2,color='red')\n",
    "ax2.legend(['Ozone (ppm)'])\n",
    "ax2.set_ylabel('Ozone (ppm)')\n",
    "ax2.set_ylim(ymin=0)\n",
    "\n",
    "ax.set_xlabel('Week')\n",
    "ax2.set_xlabel('Week')\n",
    "\n",
    "plt.savefig('annual.png',dpi=1000)"
   ]
  },
  {
   "cell_type": "code",
   "execution_count": 18,
   "metadata": {
    "scrolled": true
   },
   "outputs": [
    {
     "data": {
      "image/png": "[encoded data removed]",
      "text/plain": [
       "<matplotlib.figure.Figure at 0x7f388c09fd30>"
      ]
     },
     "metadata": {},
     "output_type": "display_data"
    }
   ],
   "source": [
    "df['doy']=df.index.dayofyear\n",
    "df['woy']=(df.doy/7).astype(int)\n",
    "df['tod']=df.index.time\n",
    "df['year']=df.index.year\n",
    "\n",
    "fig = plt.figure() # Create matplotlib figure\n",
    "\n",
    "ax = fig.add_subplot(111) # Create matplotlib axes\n",
    "\n",
    "annual_mean = df[(df.parameter==PM10) & (df.year>=2001) & (df.year<=2011)].groupby('year').value.mean()\n",
    "annual_mean.plot(ax=ax,color='blue')\n",
    "ax.legend(['PM10 (μg/m³)'])\n",
    "ax.set_ylabel('PM10 (μg/m³)')\n",
    "# ax.set_ylim(ymin=0)\n",
    "\n",
    "ax.set_xlabel('Year')\n",
    "\n",
    "plt.savefig('years.png',dpi=1000)"
   ]
  },
  {
   "cell_type": "code",
   "execution_count": 14,
   "metadata": {
    "scrolled": true
   },
   "outputs": [
    {
     "data": {
      "image/png": "[encoded data removed]",
      "text/plain": [
       "<matplotlib.figure.Figure at 0x7f385e7f81d0>"
      ]
     },
     "metadata": {},
     "output_type": "display_data"
    }
   ],
   "source": [
    "df['doy']=df.index.dayofyear\n",
    "df['woy']=(df.doy/7).astype(int)\n",
    "df['tod']=df.index.time\n",
    "df['year']=df.index.year\n",
    "\n",
    "fig = plt.figure() # Create matplotlib figure\n",
    "\n",
    "ax = fig.add_subplot(111) # Create matplotlib axes\n",
    "ax2 = ax.twinx() # Create another axes that shares the same x-axis as ax.\n",
    "\n",
    "annual_mean = df[df.parameter==PM10].groupby('tod').value.mean()\n",
    "annual_mean.plot(ax=ax,color='blue')\n",
    "ax.legend(['PM10 (μg/m³)'],loc='lower left')\n",
    "ax.set_ylabel('PM10 (μg/m³)')\n",
    "\n",
    "# annual_mean = df[df.parameter==O3].groupby('tod').value.mean()\n",
    "# annual_mean.plot(ax=ax2,color='red')\n",
    "# ax2.legend(['Ozone (ppm)'],loc='lower right')\n",
    "# ax2.set_ylabel('Ozone (ppm)')\n",
    "\n",
    "ax.set_xlabel('Time of day')\n",
    "ax.set_xticks(np.array(range(0,25,6))*3600)\n",
    "ax.set_xlim((0,24*3600))\n",
    "ax.set_ylim(ymin=0)\n",
    "ax2.set_ylim(ymin=0)\n",
    "ax.set_title('Diurnal concentrations')\n",
    "\n",
    "plt.savefig('daily.png',dpi=1000)"
   ]
  },
  {
   "cell_type": "code",
   "execution_count": 15,
   "metadata": {
    "scrolled": true
   },
   "outputs": [
    {
     "ename": "TypeError",
     "evalue": "Empty 'DataFrame': no numeric data to plot",
     "output_type": "error",
     "traceback": [
      "\u001b[0;31m---------------------------------------------------------------------------\u001b[0m",
      "\u001b[0;31mTypeError\u001b[0m                                 Traceback (most recent call last)",
      "\u001b[0;32m<ipython-input-15-dfe2b652555d>\u001b[0m in \u001b[0;36m<module>\u001b[0;34m()\u001b[0m\n\u001b[1;32m     13\u001b[0m \u001b[0;32mfor\u001b[0m \u001b[0myear\u001b[0m \u001b[0;32min\u001b[0m \u001b[0myears\u001b[0m\u001b[0;34m:\u001b[0m\u001b[0;34m\u001b[0m\u001b[0m\n\u001b[1;32m     14\u001b[0m     \u001b[0mannual_mean\u001b[0m \u001b[0;34m=\u001b[0m \u001b[0mdf\u001b[0m\u001b[0;34m[\u001b[0m\u001b[0;34m(\u001b[0m\u001b[0mdf\u001b[0m\u001b[0;34m.\u001b[0m\u001b[0mparameter\u001b[0m\u001b[0;34m==\u001b[0m\u001b[0mPM10\u001b[0m\u001b[0;34m)\u001b[0m \u001b[0;34m&\u001b[0m \u001b[0;34m(\u001b[0m\u001b[0mdf\u001b[0m\u001b[0;34m.\u001b[0m\u001b[0myear\u001b[0m\u001b[0;34m==\u001b[0m\u001b[0myear\u001b[0m\u001b[0;34m)\u001b[0m\u001b[0;34m]\u001b[0m\u001b[0;34m.\u001b[0m\u001b[0mgroupby\u001b[0m\u001b[0;34m(\u001b[0m\u001b[0;34m'tod'\u001b[0m\u001b[0;34m)\u001b[0m\u001b[0;34m.\u001b[0m\u001b[0mvalue\u001b[0m\u001b[0;34m.\u001b[0m\u001b[0mmean\u001b[0m\u001b[0;34m(\u001b[0m\u001b[0;34m)\u001b[0m\u001b[0;34m\u001b[0m\u001b[0m\n\u001b[0;32m---> 15\u001b[0;31m     \u001b[0mannual_mean\u001b[0m\u001b[0;34m.\u001b[0m\u001b[0mplot\u001b[0m\u001b[0;34m(\u001b[0m\u001b[0max\u001b[0m\u001b[0;34m=\u001b[0m\u001b[0max\u001b[0m\u001b[0;34m)\u001b[0m\u001b[0;34m\u001b[0m\u001b[0m\n\u001b[0m\u001b[1;32m     16\u001b[0m \u001b[0;34m\u001b[0m\u001b[0m\n\u001b[1;32m     17\u001b[0m \u001b[0max\u001b[0m\u001b[0;34m.\u001b[0m\u001b[0mlegend\u001b[0m\u001b[0;34m(\u001b[0m\u001b[0myears\u001b[0m\u001b[0;34m,\u001b[0m\u001b[0mloc\u001b[0m\u001b[0;34m=\u001b[0m\u001b[0;34m'lower left'\u001b[0m\u001b[0;34m)\u001b[0m\u001b[0;34m\u001b[0m\u001b[0m\n",
      "\u001b[0;32m/usr/local/lib/python3.5/dist-packages/pandas/plotting/_core.py\u001b[0m in \u001b[0;36m__call__\u001b[0;34m(self, kind, ax, figsize, use_index, title, grid, legend, style, logx, logy, loglog, xticks, yticks, xlim, ylim, rot, fontsize, colormap, table, yerr, xerr, label, secondary_y, **kwds)\u001b[0m\n\u001b[1;32m   2451\u001b[0m                            \u001b[0mcolormap\u001b[0m\u001b[0;34m=\u001b[0m\u001b[0mcolormap\u001b[0m\u001b[0;34m,\u001b[0m \u001b[0mtable\u001b[0m\u001b[0;34m=\u001b[0m\u001b[0mtable\u001b[0m\u001b[0;34m,\u001b[0m \u001b[0myerr\u001b[0m\u001b[0;34m=\u001b[0m\u001b[0myerr\u001b[0m\u001b[0;34m,\u001b[0m\u001b[0;34m\u001b[0m\u001b[0m\n\u001b[1;32m   2452\u001b[0m                            \u001b[0mxerr\u001b[0m\u001b[0;34m=\u001b[0m\u001b[0mxerr\u001b[0m\u001b[0;34m,\u001b[0m \u001b[0mlabel\u001b[0m\u001b[0;34m=\u001b[0m\u001b[0mlabel\u001b[0m\u001b[0;34m,\u001b[0m \u001b[0msecondary_y\u001b[0m\u001b[0;34m=\u001b[0m\u001b[0msecondary_y\u001b[0m\u001b[0;34m,\u001b[0m\u001b[0;34m\u001b[0m\u001b[0m\n\u001b[0;32m-> 2453\u001b[0;31m                            **kwds)\n\u001b[0m\u001b[1;32m   2454\u001b[0m     \u001b[0m__call__\u001b[0m\u001b[0;34m.\u001b[0m\u001b[0m__doc__\u001b[0m \u001b[0;34m=\u001b[0m \u001b[0mplot_series\u001b[0m\u001b[0;34m.\u001b[0m\u001b[0m__doc__\u001b[0m\u001b[0;34m\u001b[0m\u001b[0m\n\u001b[1;32m   2455\u001b[0m \u001b[0;34m\u001b[0m\u001b[0m\n",
      "\u001b[0;32m/usr/local/lib/python3.5/dist-packages/pandas/plotting/_core.py\u001b[0m in \u001b[0;36mplot_series\u001b[0;34m(data, kind, ax, figsize, use_index, title, grid, legend, style, logx, logy, loglog, xticks, yticks, xlim, ylim, rot, fontsize, colormap, table, yerr, xerr, label, secondary_y, **kwds)\u001b[0m\n\u001b[1;32m   1892\u001b[0m                  \u001b[0myerr\u001b[0m\u001b[0;34m=\u001b[0m\u001b[0myerr\u001b[0m\u001b[0;34m,\u001b[0m \u001b[0mxerr\u001b[0m\u001b[0;34m=\u001b[0m\u001b[0mxerr\u001b[0m\u001b[0;34m,\u001b[0m\u001b[0;34m\u001b[0m\u001b[0m\n\u001b[1;32m   1893\u001b[0m                  \u001b[0mlabel\u001b[0m\u001b[0;34m=\u001b[0m\u001b[0mlabel\u001b[0m\u001b[0;34m,\u001b[0m \u001b[0msecondary_y\u001b[0m\u001b[0;34m=\u001b[0m\u001b[0msecondary_y\u001b[0m\u001b[0;34m,\u001b[0m\u001b[0;34m\u001b[0m\u001b[0m\n\u001b[0;32m-> 1894\u001b[0;31m                  **kwds)\n\u001b[0m\u001b[1;32m   1895\u001b[0m \u001b[0;34m\u001b[0m\u001b[0m\n\u001b[1;32m   1896\u001b[0m \u001b[0;34m\u001b[0m\u001b[0m\n",
      "\u001b[0;32m/usr/local/lib/python3.5/dist-packages/pandas/plotting/_core.py\u001b[0m in \u001b[0;36m_plot\u001b[0;34m(data, x, y, subplots, ax, kind, **kwds)\u001b[0m\n\u001b[1;32m   1692\u001b[0m         \u001b[0mplot_obj\u001b[0m \u001b[0;34m=\u001b[0m \u001b[0mklass\u001b[0m\u001b[0;34m(\u001b[0m\u001b[0mdata\u001b[0m\u001b[0;34m,\u001b[0m \u001b[0msubplots\u001b[0m\u001b[0;34m=\u001b[0m\u001b[0msubplots\u001b[0m\u001b[0;34m,\u001b[0m \u001b[0max\u001b[0m\u001b[0;34m=\u001b[0m\u001b[0max\u001b[0m\u001b[0;34m,\u001b[0m \u001b[0mkind\u001b[0m\u001b[0;34m=\u001b[0m\u001b[0mkind\u001b[0m\u001b[0;34m,\u001b[0m \u001b[0;34m**\u001b[0m\u001b[0mkwds\u001b[0m\u001b[0;34m)\u001b[0m\u001b[0;34m\u001b[0m\u001b[0m\n\u001b[1;32m   1693\u001b[0m \u001b[0;34m\u001b[0m\u001b[0m\n\u001b[0;32m-> 1694\u001b[0;31m     \u001b[0mplot_obj\u001b[0m\u001b[0;34m.\u001b[0m\u001b[0mgenerate\u001b[0m\u001b[0;34m(\u001b[0m\u001b[0;34m)\u001b[0m\u001b[0;34m\u001b[0m\u001b[0m\n\u001b[0m\u001b[1;32m   1695\u001b[0m     \u001b[0mplot_obj\u001b[0m\u001b[0;34m.\u001b[0m\u001b[0mdraw\u001b[0m\u001b[0;34m(\u001b[0m\u001b[0;34m)\u001b[0m\u001b[0;34m\u001b[0m\u001b[0m\n\u001b[1;32m   1696\u001b[0m     \u001b[0;32mreturn\u001b[0m \u001b[0mplot_obj\u001b[0m\u001b[0;34m.\u001b[0m\u001b[0mresult\u001b[0m\u001b[0;34m\u001b[0m\u001b[0m\n",
      "\u001b[0;32m/usr/local/lib/python3.5/dist-packages/pandas/plotting/_core.py\u001b[0m in \u001b[0;36mgenerate\u001b[0;34m(self)\u001b[0m\n\u001b[1;32m    241\u001b[0m     \u001b[0;32mdef\u001b[0m \u001b[0mgenerate\u001b[0m\u001b[0;34m(\u001b[0m\u001b[0mself\u001b[0m\u001b[0;34m)\u001b[0m\u001b[0;34m:\u001b[0m\u001b[0;34m\u001b[0m\u001b[0m\n\u001b[1;32m    242\u001b[0m         \u001b[0mself\u001b[0m\u001b[0;34m.\u001b[0m\u001b[0m_args_adjust\u001b[0m\u001b[0;34m(\u001b[0m\u001b[0;34m)\u001b[0m\u001b[0;34m\u001b[0m\u001b[0m\n\u001b[0;32m--> 243\u001b[0;31m         \u001b[0mself\u001b[0m\u001b[0;34m.\u001b[0m\u001b[0m_compute_plot_data\u001b[0m\u001b[0;34m(\u001b[0m\u001b[0;34m)\u001b[0m\u001b[0;34m\u001b[0m\u001b[0m\n\u001b[0m\u001b[1;32m    244\u001b[0m         \u001b[0mself\u001b[0m\u001b[0;34m.\u001b[0m\u001b[0m_setup_subplots\u001b[0m\u001b[0;34m(\u001b[0m\u001b[0;34m)\u001b[0m\u001b[0;34m\u001b[0m\u001b[0m\n\u001b[1;32m    245\u001b[0m         \u001b[0mself\u001b[0m\u001b[0;34m.\u001b[0m\u001b[0m_make_plot\u001b[0m\u001b[0;34m(\u001b[0m\u001b[0;34m)\u001b[0m\u001b[0;34m\u001b[0m\u001b[0m\n",
      "\u001b[0;32m/usr/local/lib/python3.5/dist-packages/pandas/plotting/_core.py\u001b[0m in \u001b[0;36m_compute_plot_data\u001b[0;34m(self)\u001b[0m\n\u001b[1;32m    350\u001b[0m         \u001b[0;32mif\u001b[0m \u001b[0mis_empty\u001b[0m\u001b[0;34m:\u001b[0m\u001b[0;34m\u001b[0m\u001b[0m\n\u001b[1;32m    351\u001b[0m             raise TypeError('Empty {0!r}: no numeric data to '\n\u001b[0;32m--> 352\u001b[0;31m                             'plot'.format(numeric_data.__class__.__name__))\n\u001b[0m\u001b[1;32m    353\u001b[0m \u001b[0;34m\u001b[0m\u001b[0m\n\u001b[1;32m    354\u001b[0m         \u001b[0mself\u001b[0m\u001b[0;34m.\u001b[0m\u001b[0mdata\u001b[0m \u001b[0;34m=\u001b[0m \u001b[0mnumeric_data\u001b[0m\u001b[0;34m\u001b[0m\u001b[0m\n",
      "\u001b[0;31mTypeError\u001b[0m: Empty 'DataFrame': no numeric data to plot"
     ]
    },
    {
     "data": {
      "image/png": "[encoded data removed]",
      "text/plain": [
       "<matplotlib.figure.Figure at 0x7f3853f41518>"
      ]
     },
     "metadata": {},
     "output_type": "display_data"
    }
   ],
   "source": [
    "df['doy']=df.index.dayofyear\n",
    "df['woy']=(df.doy/7).astype(int)\n",
    "df['tod']=df.index.time\n",
    "df['year']=df.index.year\n",
    "\n",
    "fig = plt.figure() # Create matplotlib figure\n",
    "\n",
    "ax = fig.add_subplot(111) # Create matplotlib axes\n",
    "\n",
    "# years = [2001, 2011]\n",
    "years = list(range(2001,2012,1))\n",
    "\n",
    "for year in years:\n",
    "    annual_mean = df[(df.parameter==PM10) & (df.year==year)].groupby('tod').value.mean()\n",
    "    annual_mean.plot(ax=ax)\n",
    "\n",
    "ax.legend(years,loc='lower left')\n",
    "ax.set_ylabel('PM10 (μg/m³)')\n",
    "\n",
    "ax.set_xlabel('Time of day')\n",
    "ax.set_xticks(np.array(range(0,25,6))*3600)\n",
    "ax.set_xlim((0,24*3600))\n",
    "ax.set_ylim(ymin=0)\n",
    "\n",
    "ax.set_title('PM10 concentrations')\n",
    "\n",
    "plt.savefig('change_pm10.png',dpi=1000)"
   ]
  },
  {
   "cell_type": "code",
   "execution_count": null,
   "metadata": {
    "scrolled": true
   },
   "outputs": [],
   "source": [
    "df['doy']=df.index.dayofyear\n",
    "df['woy']=(df.doy/7).astype(int)\n",
    "df['tod']=df.index.time\n",
    "df['year']=df.index.year\n",
    "\n",
    "fig = plt.figure() # Create matplotlib figure\n",
    "\n",
    "ax = fig.add_subplot(111) # Create matplotlib axes\n",
    "\n",
    "annual_mean = df[(df.parameter==O3) & (df.year==2001)].groupby('tod').value.mean()\n",
    "annual_mean.plot(ax=ax,color='red')\n",
    "\n",
    "annual_mean = df[(df.parameter==O3) & (df.year==2011)].groupby('tod').value.mean()\n",
    "annual_mean.plot(ax=ax,color='orange')\n",
    "\n",
    "ax.legend(['2001','2011'])\n",
    "ax.set_ylabel('Ozone (ppm)')\n",
    "\n",
    "ax.set_xlabel('Time of day')\n",
    "ax.set_xticks(np.array(range(0,25,6))*3600)\n",
    "ax.set_xlim((0,24*3600))\n",
    "ax.set_ylim(ymin=0)\n",
    "\n",
    "ax.set_title('Ozone Concentrations')\n",
    "\n",
    "plt.savefig('change_O3.png',dpi=1000)"
   ]
  },
  {
   "cell_type": "code",
   "execution_count": null,
   "metadata": {
    "scrolled": true
   },
   "outputs": [],
   "source": [
    "df['doy']=df.index.dayofyear\n",
    "df['woy']=(df.doy/7).astype(int)\n",
    "df['tod']=df.index.time\n",
    "df['year']=df.index.year\n",
    "df['month']=df.index.month\n",
    "\n",
    "fig = plt.figure() # Create matplotlib figure\n",
    "\n",
    "ax = fig.add_subplot(111) # Create matplotlib axes\n",
    "\n",
    "annual_mean = df[(df.parameter==PM10) & (df.month>2) & (df.month<=5)].groupby('tod').value.mean()\n",
    "annual_mean.plot(ax=ax)\n",
    "\n",
    "annual_mean = df[(df.parameter==PM10) & (df.month>5) & (df.month<=8)].groupby('tod').value.mean()\n",
    "annual_mean.plot(ax=ax)\n",
    "\n",
    "annual_mean = df[(df.parameter==PM10) & (df.month>8) & (df.month<=11)].groupby('tod').value.mean()\n",
    "annual_mean.plot(ax=ax)\n",
    "\n",
    "annual_mean = df[(df.parameter==PM10) & ((df.month>11) | (df.month<=2))].groupby('tod').value.mean()\n",
    "annual_mean.plot(ax=ax)\n",
    "\n",
    "ax.legend(['Spring','Summer','Autumn','Winter'])\n",
    "ax.set_ylabel('PM10 (μg/m³)')\n",
    "\n",
    "ax.set_xlabel('Time of day')\n",
    "ax.set_xticks(np.array(range(0,25,6))*3600)\n",
    "ax.set_xlim((0,24*3600))\n",
    "ax.set_ylim(ymin=0)\n",
    "\n",
    "ax.set_title('Seasonality of PM10')\n",
    "\n",
    "plt.savefig('seasonality.png',dpi=1000)"
   ]
  },
  {
   "cell_type": "code",
   "execution_count": null,
   "metadata": {},
   "outputs": [],
   "source": [
    "for p in df.parameter.unique():\n",
    "    print(p, df[df.parameter==p].unit.unique())"
   ]
  },
  {
   "cell_type": "code",
   "execution_count": null,
   "metadata": {
    "scrolled": true
   },
   "outputs": [],
   "source": [
    "df.tail()"
   ]
  },
  {
   "cell_type": "code",
   "execution_count": null,
   "metadata": {},
   "outputs": [],
   "source": [
    "df.site.unique()"
   ]
  },
  {
   "cell_type": "markdown",
   "metadata": {},
   "source": [
    "# Meterology"
   ]
  },
  {
   "cell_type": "code",
   "execution_count": null,
   "metadata": {},
   "outputs": [],
   "source": [
    "meterology = pd.read_csv('raw_data/meterology.csv', parse_dates=['valid'], na_values='M')\n",
    "meterology.columns = map(lambda s: s.strip(), meterology.columns)\n",
    "meterology.drop('metar skyc1 skyc2 skyc3 skyc4 skyl1 skyl2 skyl3 skyl4 presentwx'.split(), axis=1, inplace=True)\n",
    "meterology = meterology[meterology.station=='CXY']\n",
    "meterology.index = meterology.valid\n",
    "meterology.sort_index(inplace=True)\n",
    "# Ignore heading data when wind speed is 0\n",
    "meterology.loc[meterology.sknt == 0,'drct'] = float('nan')\n",
    "meterology.head()"
   ]
  },
  {
   "cell_type": "code",
   "execution_count": null,
   "metadata": {},
   "outputs": [],
   "source": [
    "times=meterology.index\n",
    "times=np.diff(times).astype(int)/10**9\n",
    "max(times)\n",
    "plt.hist(times.astype(int),range=(0,3700))\n",
    "np.percentile(times, 99)"
   ]
  },
  {
   "cell_type": "code",
   "execution_count": null,
   "metadata": {},
   "outputs": [],
   "source": [
    "wd = meterology.drct\n",
    "ws = meterology.sknt\n",
    "\n",
    "ax = WindroseAxes.from_ax()\n",
    "ax.bar(wd, ws, normed=True, opening=1.0, edgecolor='black',bins=np.arange(0, 20, 2))\n",
    "ax.set_legend()\n",
    "plt.savefig('wind_dir.png')"
   ]
  },
  {
   "cell_type": "code",
   "execution_count": null,
   "metadata": {},
   "outputs": [],
   "source": [
    "wd = df.winddir\n",
    "ws = meterology.sknt\n",
    "\n",
    "ax = WindroseAxes.from_ax()\n",
    "ax.bar(wd, ws, normed=True, opening=1.0, edgecolor='black',bins=np.arange(0, 20, 2))\n",
    "ax.set_legend()\n",
    "plt.savefig('wind_dir.png')"
   ]
  },
  {
   "cell_type": "markdown",
   "metadata": {},
   "source": [
    "## Connect Meterology to concentrations"
   ]
  },
  {
   "cell_type": "code",
   "execution_count": 16,
   "metadata": {},
   "outputs": [
    {
     "ename": "NameError",
     "evalue": "name 'meterology' is not defined",
     "output_type": "error",
     "traceback": [
      "\u001b[0;31m---------------------------------------------------------------------------\u001b[0m",
      "\u001b[0;31mNameError\u001b[0m                                 Traceback (most recent call last)",
      "\u001b[0;32m<ipython-input-16-062f0a0ca5e2>\u001b[0m in \u001b[0;36m<module>\u001b[0;34m()\u001b[0m\n\u001b[1;32m      1\u001b[0m \u001b[0mdirs\u001b[0m \u001b[0;34m=\u001b[0m \u001b[0;34m[\u001b[0m\u001b[0;34m]\u001b[0m\u001b[0;34m\u001b[0m\u001b[0m\n\u001b[1;32m      2\u001b[0m \u001b[0mspeeds\u001b[0m \u001b[0;34m=\u001b[0m \u001b[0;34m[\u001b[0m\u001b[0;34m]\u001b[0m\u001b[0;34m\u001b[0m\u001b[0m\n\u001b[0;32m----> 3\u001b[0;31m \u001b[0mmeterology\u001b[0m\u001b[0;34m.\u001b[0m\u001b[0msort_index\u001b[0m\u001b[0;34m(\u001b[0m\u001b[0minplace\u001b[0m\u001b[0;34m=\u001b[0m\u001b[0;32mTrue\u001b[0m\u001b[0;34m)\u001b[0m\u001b[0;34m\u001b[0m\u001b[0m\n\u001b[0m\u001b[1;32m      4\u001b[0m \u001b[0mdf\u001b[0m\u001b[0;34m.\u001b[0m\u001b[0msort_index\u001b[0m\u001b[0;34m(\u001b[0m\u001b[0minplace\u001b[0m\u001b[0;34m=\u001b[0m\u001b[0;32mTrue\u001b[0m\u001b[0;34m)\u001b[0m\u001b[0;34m\u001b[0m\u001b[0m\n\u001b[1;32m      5\u001b[0m \u001b[0mtz_offset\u001b[0m \u001b[0;34m=\u001b[0m \u001b[0;34m-\u001b[0m\u001b[0;36m4\u001b[0m \u001b[0;34m*\u001b[0m \u001b[0;36m3600\u001b[0m\u001b[0;34m\u001b[0m\u001b[0m\n",
      "\u001b[0;31mNameError\u001b[0m: name 'meterology' is not defined"
     ]
    }
   ],
   "source": [
    "dirs = []\n",
    "speeds = []\n",
    "meterology.sort_index(inplace=True)\n",
    "df.sort_index(inplace=True)\n",
    "tz_offset = -4 * 3600\n",
    "for row in df.iterrows():\n",
    "    t = row[0] + tz_offset\n",
    "#     print(t)\n",
    "    index = meterology.index.searchsorted(t)-1\n",
    "    met = meterology.iloc[index]\n",
    "    dirs.append(met.drct)\n",
    "    speeds.append(met.sknt)\n",
    "#     print(meterology.iloc[index])\n",
    "\n",
    "df.winddir = dirs\n",
    "df.sknt = speeds\n",
    "# print(dirs, speeds)"
   ]
  },
  {
   "cell_type": "code",
   "execution_count": null,
   "metadata": {},
   "outputs": [],
   "source": [
    "df.head()"
   ]
  }
 ],
 "metadata": {
  "kernelspec": {
   "display_name": "Python 3",
   "language": "python",
   "name": "python3"
  },
  "language_info": {
   "codemirror_mode": {
    "name": "ipython",
    "version": 3
   },
   "file_extension": ".py",
   "mimetype": "text/x-python",
   "name": "python",
   "nbconvert_exporter": "python",
   "pygments_lexer": "ipython3",
   "version": "3.5.2"
  }
 },
 "nbformat": 4,
 "nbformat_minor": 2
}
